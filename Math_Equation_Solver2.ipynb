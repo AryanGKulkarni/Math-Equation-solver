{
  "cells": [
    {
      "cell_type": "markdown",
      "metadata": {
        "id": "view-in-github",
        "colab_type": "text"
      },
      "source": [
        "<a href=\"https://colab.research.google.com/github/AryanGKulkarni/Math-Equation-solver/blob/master/Math_Equation_Solver2.ipynb\" target=\"_parent\"><img src=\"https://colab.research.google.com/assets/colab-badge.svg\" alt=\"Open In Colab\"/></a>"
      ]
    },
    {
      "cell_type": "code",
      "execution_count": 4,
      "metadata": {
        "colab": {
          "base_uri": "https://localhost:8080/"
        },
        "id": "B8xtbWb-p9rh",
        "outputId": "cd701750-097e-4cc5-8504-86fca6e0a95c"
      },
      "outputs": [
        {
          "output_type": "stream",
          "name": "stdout",
          "text": [
            "Loading...\n",
            "Done\n"
          ]
        }
      ],
      "source": [
        "print(\"Loading...\")\n",
        "\n",
        "# common libraries\n",
        "import numpy as np\n",
        "import pandas as pd\n",
        "from matplotlib import pyplot as plt\n",
        "import matplotlib.image as mpimg\n",
        "%matplotlib inline\n",
        "import os\n",
        "from os import listdir\n",
        "from os.path import isfile, join\n",
        "\n",
        "# CV and Image\n",
        "import cv2\n",
        "from PIL import Image\n",
        "\n",
        "# pickle\n",
        "import pickle\n",
        "\n",
        "# keras\n",
        "import keras\n",
        "from keras import optimizers\n",
        "from keras import backend as K\n",
        "from keras.models import Model, Sequential, load_model\n",
        "from keras.layers import *\n",
        "from keras.layers import Input, Dense, Dropout, Flatten\n",
        "from keras.utils import np_utils\n",
        "from keras.layers.convolutional import Conv2D, MaxPooling2D\n",
        "from keras.utils.np_utils import to_categorical\n",
        "from keras.utils.vis_utils import plot_model\n",
        "from tensorflow.keras.callbacks import ModelCheckpoint\n",
        "from tensorflow.keras.optimizers import Adam\n",
        "K.image_data_format()\n",
        "\n",
        "print(\"Done\")"
      ]
    },
    {
      "cell_type": "code",
      "execution_count": 5,
      "metadata": {
        "id": "EqLAM-HBslvG"
      },
      "outputs": [],
      "source": [
        "import numpy as np \n",
        "import pandas as pd \n",
        "import matplotlib.pyplot as plt\n",
        "import seaborn as sns\n",
        "import os\n",
        "import cv2\n",
        "from google.colab.patches import cv2_imshow\n",
        "from sklearn.preprocessing import MinMaxScaler\n",
        "import tensorflow as tf\n",
        "from keras.models import Sequential\n",
        "from keras.layers import Dense\n",
        "from keras.layers import Dropout\n",
        "from keras.layers import Flatten\n",
        "from keras.layers.convolutional import Conv2D\n",
        "from keras.layers.convolutional import MaxPooling2D\n",
        "from keras import backend as K\n",
        "from keras.utils import np_utils\n",
        "from sklearn.model_selection import train_test_split\n",
        "from sklearn.metrics import confusion_matrix\n",
        "\n",
        "#ignore warning messages \n",
        "import warnings\n",
        "warnings.filterwarnings('ignore') \n",
        "\n",
        "sns.set()"
      ]
    },
    {
      "cell_type": "code",
      "execution_count": 7,
      "metadata": {
        "colab": {
          "base_uri": "https://localhost:8080/",
          "height": 235
        },
        "id": "IuQrpLKDqPrV",
        "outputId": "d19f06b5-6868-40f0-ccc3-bc5dde6ed518"
      },
      "outputs": [
        {
          "output_type": "execute_result",
          "data": {
            "text/plain": [
              "   1x1  1x2  1x3  1x4  1x5  1x6  1x7  1x8  1x9  1x10  ...  28x19  28x20  \\\n",
              "0    0    0    0    0   18  255  255  255  255   255  ...      0      0   \n",
              "1    0    0    0    0    1  255  255  255  255   255  ...      0      0   \n",
              "2    0    0    0    0    0    0  113  132  185   255  ...      0      0   \n",
              "3    0    0    0    0    0    0    0  255  255   255  ...      0      0   \n",
              "4    0    0  198  255  255  255  255  111    0     0  ...      0      0   \n",
              "\n",
              "   28x21  28x22  28x23  28x24  28x25  28x26  28x27  28x28  \n",
              "0      0      0      0      0      0      0      0      0  \n",
              "1      0      0      0      0      0      0      0      0  \n",
              "2      0      0      0      0      0      0      0      0  \n",
              "3      0      0      0      0      0      0      0      0  \n",
              "4      0      0      0      0      0      0      0      0  \n",
              "\n",
              "[5 rows x 784 columns]"
            ],
            "text/html": [
              "\n",
              "  <div id=\"df-cc32fc6e-a8a2-4ea4-afcc-69f9007f617f\">\n",
              "    <div class=\"colab-df-container\">\n",
              "      <div>\n",
              "<style scoped>\n",
              "    .dataframe tbody tr th:only-of-type {\n",
              "        vertical-align: middle;\n",
              "    }\n",
              "\n",
              "    .dataframe tbody tr th {\n",
              "        vertical-align: top;\n",
              "    }\n",
              "\n",
              "    .dataframe thead th {\n",
              "        text-align: right;\n",
              "    }\n",
              "</style>\n",
              "<table border=\"1\" class=\"dataframe\">\n",
              "  <thead>\n",
              "    <tr style=\"text-align: right;\">\n",
              "      <th></th>\n",
              "      <th>1x1</th>\n",
              "      <th>1x2</th>\n",
              "      <th>1x3</th>\n",
              "      <th>1x4</th>\n",
              "      <th>1x5</th>\n",
              "      <th>1x6</th>\n",
              "      <th>1x7</th>\n",
              "      <th>1x8</th>\n",
              "      <th>1x9</th>\n",
              "      <th>1x10</th>\n",
              "      <th>...</th>\n",
              "      <th>28x19</th>\n",
              "      <th>28x20</th>\n",
              "      <th>28x21</th>\n",
              "      <th>28x22</th>\n",
              "      <th>28x23</th>\n",
              "      <th>28x24</th>\n",
              "      <th>28x25</th>\n",
              "      <th>28x26</th>\n",
              "      <th>28x27</th>\n",
              "      <th>28x28</th>\n",
              "    </tr>\n",
              "  </thead>\n",
              "  <tbody>\n",
              "    <tr>\n",
              "      <th>0</th>\n",
              "      <td>0</td>\n",
              "      <td>0</td>\n",
              "      <td>0</td>\n",
              "      <td>0</td>\n",
              "      <td>18</td>\n",
              "      <td>255</td>\n",
              "      <td>255</td>\n",
              "      <td>255</td>\n",
              "      <td>255</td>\n",
              "      <td>255</td>\n",
              "      <td>...</td>\n",
              "      <td>0</td>\n",
              "      <td>0</td>\n",
              "      <td>0</td>\n",
              "      <td>0</td>\n",
              "      <td>0</td>\n",
              "      <td>0</td>\n",
              "      <td>0</td>\n",
              "      <td>0</td>\n",
              "      <td>0</td>\n",
              "      <td>0</td>\n",
              "    </tr>\n",
              "    <tr>\n",
              "      <th>1</th>\n",
              "      <td>0</td>\n",
              "      <td>0</td>\n",
              "      <td>0</td>\n",
              "      <td>0</td>\n",
              "      <td>1</td>\n",
              "      <td>255</td>\n",
              "      <td>255</td>\n",
              "      <td>255</td>\n",
              "      <td>255</td>\n",
              "      <td>255</td>\n",
              "      <td>...</td>\n",
              "      <td>0</td>\n",
              "      <td>0</td>\n",
              "      <td>0</td>\n",
              "      <td>0</td>\n",
              "      <td>0</td>\n",
              "      <td>0</td>\n",
              "      <td>0</td>\n",
              "      <td>0</td>\n",
              "      <td>0</td>\n",
              "      <td>0</td>\n",
              "    </tr>\n",
              "    <tr>\n",
              "      <th>2</th>\n",
              "      <td>0</td>\n",
              "      <td>0</td>\n",
              "      <td>0</td>\n",
              "      <td>0</td>\n",
              "      <td>0</td>\n",
              "      <td>0</td>\n",
              "      <td>113</td>\n",
              "      <td>132</td>\n",
              "      <td>185</td>\n",
              "      <td>255</td>\n",
              "      <td>...</td>\n",
              "      <td>0</td>\n",
              "      <td>0</td>\n",
              "      <td>0</td>\n",
              "      <td>0</td>\n",
              "      <td>0</td>\n",
              "      <td>0</td>\n",
              "      <td>0</td>\n",
              "      <td>0</td>\n",
              "      <td>0</td>\n",
              "      <td>0</td>\n",
              "    </tr>\n",
              "    <tr>\n",
              "      <th>3</th>\n",
              "      <td>0</td>\n",
              "      <td>0</td>\n",
              "      <td>0</td>\n",
              "      <td>0</td>\n",
              "      <td>0</td>\n",
              "      <td>0</td>\n",
              "      <td>0</td>\n",
              "      <td>255</td>\n",
              "      <td>255</td>\n",
              "      <td>255</td>\n",
              "      <td>...</td>\n",
              "      <td>0</td>\n",
              "      <td>0</td>\n",
              "      <td>0</td>\n",
              "      <td>0</td>\n",
              "      <td>0</td>\n",
              "      <td>0</td>\n",
              "      <td>0</td>\n",
              "      <td>0</td>\n",
              "      <td>0</td>\n",
              "      <td>0</td>\n",
              "    </tr>\n",
              "    <tr>\n",
              "      <th>4</th>\n",
              "      <td>0</td>\n",
              "      <td>0</td>\n",
              "      <td>198</td>\n",
              "      <td>255</td>\n",
              "      <td>255</td>\n",
              "      <td>255</td>\n",
              "      <td>255</td>\n",
              "      <td>111</td>\n",
              "      <td>0</td>\n",
              "      <td>0</td>\n",
              "      <td>...</td>\n",
              "      <td>0</td>\n",
              "      <td>0</td>\n",
              "      <td>0</td>\n",
              "      <td>0</td>\n",
              "      <td>0</td>\n",
              "      <td>0</td>\n",
              "      <td>0</td>\n",
              "      <td>0</td>\n",
              "      <td>0</td>\n",
              "      <td>0</td>\n",
              "    </tr>\n",
              "  </tbody>\n",
              "</table>\n",
              "<p>5 rows × 784 columns</p>\n",
              "</div>\n",
              "      <button class=\"colab-df-convert\" onclick=\"convertToInteractive('df-cc32fc6e-a8a2-4ea4-afcc-69f9007f617f')\"\n",
              "              title=\"Convert this dataframe to an interactive table.\"\n",
              "              style=\"display:none;\">\n",
              "        \n",
              "  <svg xmlns=\"http://www.w3.org/2000/svg\" height=\"24px\"viewBox=\"0 0 24 24\"\n",
              "       width=\"24px\">\n",
              "    <path d=\"M0 0h24v24H0V0z\" fill=\"none\"/>\n",
              "    <path d=\"M18.56 5.44l.94 2.06.94-2.06 2.06-.94-2.06-.94-.94-2.06-.94 2.06-2.06.94zm-11 1L8.5 8.5l.94-2.06 2.06-.94-2.06-.94L8.5 2.5l-.94 2.06-2.06.94zm10 10l.94 2.06.94-2.06 2.06-.94-2.06-.94-.94-2.06-.94 2.06-2.06.94z\"/><path d=\"M17.41 7.96l-1.37-1.37c-.4-.4-.92-.59-1.43-.59-.52 0-1.04.2-1.43.59L10.3 9.45l-7.72 7.72c-.78.78-.78 2.05 0 2.83L4 21.41c.39.39.9.59 1.41.59.51 0 1.02-.2 1.41-.59l7.78-7.78 2.81-2.81c.8-.78.8-2.07 0-2.86zM5.41 20L4 18.59l7.72-7.72 1.47 1.35L5.41 20z\"/>\n",
              "  </svg>\n",
              "      </button>\n",
              "      \n",
              "  <style>\n",
              "    .colab-df-container {\n",
              "      display:flex;\n",
              "      flex-wrap:wrap;\n",
              "      gap: 12px;\n",
              "    }\n",
              "\n",
              "    .colab-df-convert {\n",
              "      background-color: #E8F0FE;\n",
              "      border: none;\n",
              "      border-radius: 50%;\n",
              "      cursor: pointer;\n",
              "      display: none;\n",
              "      fill: #1967D2;\n",
              "      height: 32px;\n",
              "      padding: 0 0 0 0;\n",
              "      width: 32px;\n",
              "    }\n",
              "\n",
              "    .colab-df-convert:hover {\n",
              "      background-color: #E2EBFA;\n",
              "      box-shadow: 0px 1px 2px rgba(60, 64, 67, 0.3), 0px 1px 3px 1px rgba(60, 64, 67, 0.15);\n",
              "      fill: #174EA6;\n",
              "    }\n",
              "\n",
              "    [theme=dark] .colab-df-convert {\n",
              "      background-color: #3B4455;\n",
              "      fill: #D2E3FC;\n",
              "    }\n",
              "\n",
              "    [theme=dark] .colab-df-convert:hover {\n",
              "      background-color: #434B5C;\n",
              "      box-shadow: 0px 1px 3px 1px rgba(0, 0, 0, 0.15);\n",
              "      filter: drop-shadow(0px 1px 2px rgba(0, 0, 0, 0.3));\n",
              "      fill: #FFFFFF;\n",
              "    }\n",
              "  </style>\n",
              "\n",
              "      <script>\n",
              "        const buttonEl =\n",
              "          document.querySelector('#df-cc32fc6e-a8a2-4ea4-afcc-69f9007f617f button.colab-df-convert');\n",
              "        buttonEl.style.display =\n",
              "          google.colab.kernel.accessAllowed ? 'block' : 'none';\n",
              "\n",
              "        async function convertToInteractive(key) {\n",
              "          const element = document.querySelector('#df-cc32fc6e-a8a2-4ea4-afcc-69f9007f617f');\n",
              "          const dataTable =\n",
              "            await google.colab.kernel.invokeFunction('convertToInteractive',\n",
              "                                                     [key], {});\n",
              "          if (!dataTable) return;\n",
              "\n",
              "          const docLinkHtml = 'Like what you see? Visit the ' +\n",
              "            '<a target=\"_blank\" href=https://colab.research.google.com/notebooks/data_table.ipynb>data table notebook</a>'\n",
              "            + ' to learn more about interactive tables.';\n",
              "          element.innerHTML = '';\n",
              "          dataTable['output_type'] = 'display_data';\n",
              "          await google.colab.output.renderOutput(dataTable, element);\n",
              "          const docLink = document.createElement('div');\n",
              "          docLink.innerHTML = docLinkHtml;\n",
              "          element.appendChild(docLink);\n",
              "        }\n",
              "      </script>\n",
              "    </div>\n",
              "  </div>\n",
              "  "
            ]
          },
          "metadata": {},
          "execution_count": 7
        }
      ],
      "source": [
        "data = pd.read_csv('/content/train_handwritten.csv',index_col=False)\n",
        "labels = data[['label']]\n",
        "\n",
        "data.drop(data.columns[[784]],axis=1,inplace=True)\n",
        "data.head()"
      ]
    },
    {
      "cell_type": "code",
      "execution_count": 8,
      "metadata": {
        "colab": {
          "base_uri": "https://localhost:8080/"
        },
        "id": "E2prLLsrqWO3",
        "outputId": "7a081676-f294-467b-a769-567e9ae079d3"
      },
      "outputs": [
        {
          "output_type": "execute_result",
          "data": {
            "text/plain": [
              "array([1., 0., 0., 0., 0., 0., 0., 0., 0., 0., 0., 0., 0., 0., 0., 0., 0.,\n",
              "       0., 0.], dtype=float32)"
            ]
          },
          "metadata": {},
          "execution_count": 8
        }
      ],
      "source": [
        "np.random.seed(1212)\n",
        "labels=np.array(labels)\n",
        "cat=to_categorical(labels,num_classes=19)\n",
        "cat[0]"
      ]
    },
    {
      "cell_type": "code",
      "execution_count": 9,
      "metadata": {
        "colab": {
          "base_uri": "https://localhost:8080/"
        },
        "id": "ZKuKxPtYrgNP",
        "outputId": "5bee7fab-5902-4e9e-dac8-25a0a63c7ba4"
      },
      "outputs": [
        {
          "output_type": "execute_result",
          "data": {
            "text/plain": [
              "(10071, 28, 28, 1)"
            ]
          },
          "metadata": {},
          "execution_count": 9
        }
      ],
      "source": [
        "temp=data.to_numpy()\n",
        "X_train = temp.reshape(temp.shape[0], 28, 28, 1)\n",
        "X_train.shape"
      ]
    },
    {
      "cell_type": "code",
      "execution_count": 10,
      "metadata": {
        "id": "1oKJeUsGsIQQ"
      },
      "outputs": [],
      "source": [
        "l=[]\n",
        "for i in range(X_train.shape[0]):\n",
        "    l.append(np.array(data[i:i+1]).reshape(1,28,28))\n",
        "\n",
        "np.random.seed(7)"
      ]
    },
    {
      "cell_type": "code",
      "execution_count": 11,
      "metadata": {
        "id": "K0WbSQZjsaFR"
      },
      "outputs": [],
      "source": [
        "X_train, X_test, y_train, y_test = train_test_split(data,labels)\n",
        "\n",
        "# scale data\n",
        "standard_scaler = MinMaxScaler()\n",
        "standard_scaler.fit(X_train)\n",
        "\n",
        "X_train = standard_scaler.transform(X_train)\n",
        "X_test = standard_scaler.transform(X_test)\n"
      ]
    },
    {
      "cell_type": "code",
      "execution_count": 12,
      "metadata": {
        "id": "fdUVX7XGth7n"
      },
      "outputs": [],
      "source": [
        "X_train = X_train.reshape(X_train.shape[0], 28, 28, 1).astype('float32')\n",
        "X_test = X_test.reshape(X_test.shape[0], 28, 28, 1).astype('float32')\n",
        "\n",
        "y_train = np_utils.to_categorical(y_train)\n",
        "y_test = np_utils.to_categorical(y_test)"
      ]
    },
    {
      "cell_type": "code",
      "execution_count": 13,
      "metadata": {
        "colab": {
          "base_uri": "https://localhost:8080/"
        },
        "id": "lPjpU8QatHSI",
        "outputId": "c205b06b-51ec-43c2-df39-1e0ba1bd4a5e"
      },
      "outputs": [
        {
          "output_type": "stream",
          "name": "stdout",
          "text": [
            "Epoch 1/20\n",
            "38/38 - 48s - loss: 1.6798 - accuracy: 0.4728 - val_loss: 0.9044 - val_accuracy: 0.6910 - 48s/epoch - 1s/step\n",
            "Epoch 2/20\n",
            "38/38 - 46s - loss: 0.7073 - accuracy: 0.7602 - val_loss: 0.5880 - val_accuracy: 0.7939 - 46s/epoch - 1s/step\n",
            "Epoch 3/20\n",
            "38/38 - 45s - loss: 0.4530 - accuracy: 0.8362 - val_loss: 0.4812 - val_accuracy: 0.8249 - 45s/epoch - 1s/step\n",
            "Epoch 4/20\n",
            "38/38 - 44s - loss: 0.3454 - accuracy: 0.8736 - val_loss: 0.3861 - val_accuracy: 0.8658 - 44s/epoch - 1s/step\n",
            "Epoch 5/20\n",
            "38/38 - 45s - loss: 0.2826 - accuracy: 0.8913 - val_loss: 0.3404 - val_accuracy: 0.8689 - 45s/epoch - 1s/step\n",
            "Epoch 6/20\n",
            "38/38 - 45s - loss: 0.2330 - accuracy: 0.9073 - val_loss: 0.3138 - val_accuracy: 0.8884 - 45s/epoch - 1s/step\n",
            "Epoch 7/20\n",
            "38/38 - 44s - loss: 0.2112 - accuracy: 0.9153 - val_loss: 0.3252 - val_accuracy: 0.8805 - 44s/epoch - 1s/step\n",
            "Epoch 8/20\n",
            "38/38 - 47s - loss: 0.1985 - accuracy: 0.9191 - val_loss: 0.3196 - val_accuracy: 0.8892 - 47s/epoch - 1s/step\n",
            "Epoch 9/20\n",
            "38/38 - 44s - loss: 0.1803 - accuracy: 0.9257 - val_loss: 0.3271 - val_accuracy: 0.8856 - 44s/epoch - 1s/step\n",
            "Epoch 10/20\n",
            "38/38 - 45s - loss: 0.1616 - accuracy: 0.9296 - val_loss: 0.3221 - val_accuracy: 0.8967 - 45s/epoch - 1s/step\n",
            "Epoch 11/20\n",
            "38/38 - 46s - loss: 0.1493 - accuracy: 0.9363 - val_loss: 0.3468 - val_accuracy: 0.8836 - 46s/epoch - 1s/step\n",
            "Epoch 12/20\n",
            "38/38 - 45s - loss: 0.1591 - accuracy: 0.9319 - val_loss: 0.3361 - val_accuracy: 0.8896 - 45s/epoch - 1s/step\n",
            "Epoch 13/20\n",
            "38/38 - 45s - loss: 0.1572 - accuracy: 0.9333 - val_loss: 0.3268 - val_accuracy: 0.8979 - 45s/epoch - 1s/step\n",
            "Epoch 14/20\n",
            "38/38 - 44s - loss: 0.1385 - accuracy: 0.9423 - val_loss: 0.3036 - val_accuracy: 0.9011 - 44s/epoch - 1s/step\n",
            "Epoch 15/20\n",
            "38/38 - 46s - loss: 0.1299 - accuracy: 0.9436 - val_loss: 0.2933 - val_accuracy: 0.9063 - 46s/epoch - 1s/step\n",
            "Epoch 16/20\n",
            "38/38 - 46s - loss: 0.1207 - accuracy: 0.9477 - val_loss: 0.3065 - val_accuracy: 0.8963 - 46s/epoch - 1s/step\n",
            "Epoch 17/20\n",
            "38/38 - 45s - loss: 0.1179 - accuracy: 0.9474 - val_loss: 0.3417 - val_accuracy: 0.8975 - 45s/epoch - 1s/step\n",
            "Epoch 18/20\n",
            "38/38 - 45s - loss: 0.1240 - accuracy: 0.9482 - val_loss: 0.3134 - val_accuracy: 0.9075 - 45s/epoch - 1s/step\n",
            "Epoch 19/20\n",
            "38/38 - 45s - loss: 0.1221 - accuracy: 0.9497 - val_loss: 0.3145 - val_accuracy: 0.9043 - 45s/epoch - 1s/step\n",
            "Epoch 20/20\n",
            "38/38 - 44s - loss: 0.1149 - accuracy: 0.9505 - val_loss: 0.3048 - val_accuracy: 0.9059 - 44s/epoch - 1s/step\n"
          ]
        }
      ],
      "source": [
        "model = Sequential()\n",
        "\n",
        "## Declare the layers\n",
        "model.add(Conv2D(32, kernel_size=5, activation='relu', input_shape=(28, 28, 1)))\n",
        "model.add(Conv2D(64, kernel_size=5, activation='relu'))\n",
        "model.add(MaxPooling2D(pool_size=(2, 2)))\n",
        "model.add(Dropout(0.3))\n",
        "model.add(Flatten())\n",
        "model.add(Dense(64, activation='relu'))\n",
        "model.add(Dense(128, activation='relu'))\n",
        "model.add(Dense(128, activation='relu'))\n",
        "model.add(Dense(64, activation='relu'))\n",
        "model.add(Dense(19, activation='softmax'))\n",
        "\n",
        "## Add the layers to the model\n",
        "\n",
        "\n",
        "model.compile(optimizer='adam', loss='categorical_crossentropy', metrics=['accuracy'])\n",
        "history=model.fit(X_train, y_train, validation_data=(X_test, y_test), epochs=20, batch_size=200, verbose=2)"
      ]
    },
    {
      "cell_type": "code",
      "source": [
        "plot_model(model, show_layer_names=True)"
      ],
      "metadata": {
        "colab": {
          "base_uri": "https://localhost:8080/",
          "height": 953
        },
        "id": "z7fwwWjAlVNX",
        "outputId": "a0e0261f-e177-4843-d0f8-35e2f14697c0"
      },
      "execution_count": 4,
      "outputs": [
        {
          "output_type": "execute_result",
          "data": {
            "text/plain": [
              "<IPython.core.display.Image object>"
            ],
            "image/png": "[encoded data removed]"
          },
          "metadata": {},
          "execution_count": 4
        }
      ]
    },
    {
      "cell_type": "code",
      "execution_count": null,
      "metadata": {
        "colab": {
          "base_uri": "https://localhost:8080/"
        },
        "id": "FJGpBtbD9FXh",
        "outputId": "f325a844-6567-4839-fe43-8b9d7a7bcc10"
      },
      "outputs": [
        {
          "output_type": "stream",
          "name": "stdout",
          "text": [
            "INFO:tensorflow:Assets written to: ram://e04fc52b-48c5-4e42-8bbb-c672e71aaae6/assets\n"
          ]
        }
      ],
      "source": [
        "from joblib import Parallel, delayed\n",
        "import joblib\n",
        " \n",
        " \n",
        "# Save the model as a pickle in a file\n",
        "joblib.dump(model, 'model2.pkl')\n",
        " \n",
        "# Load the model from the file\n",
        "model = joblib.load('model2.pkl')\n"
      ]
    },
    {
      "cell_type": "code",
      "execution_count": 35,
      "metadata": {
        "id": "99jGgXmf9Gd1"
      },
      "outputs": [],
      "source": [
        "from joblib import Parallel, delayed\n",
        "import joblib\n",
        "from sklearn.tree import BaseDecisionTree\n",
        "\n",
        "# Load the model from the file\n",
        "model = joblib.load('model1.pkl')"
      ]
    },
    {
      "cell_type": "code",
      "source": [
        "plt.plot(history.history['loss'])\n",
        "plt.plot(history.history['val_loss'])\n",
        "plt.title('Model loss')\n",
        "plt.ylabel('Loss')\n",
        "plt.xlabel('Epoch')\n",
        "plt.legend(['Train', 'Test'], loc='upper left')\n",
        "plt.show()"
      ],
      "metadata": {
        "colab": {
          "base_uri": "https://localhost:8080/",
          "height": 301
        },
        "id": "i559HcYMHgMS",
        "outputId": "281c1953-6d69-4033-ede8-20339c09a75a"
      },
      "execution_count": 14,
      "outputs": [
        {
          "output_type": "display_data",
          "data": {
            "text/plain": [
              "<Figure size 432x288 with 1 Axes>"
            ],
            "image/png": "[encoded data removed]"
          },
          "metadata": {}
        }
      ]
    },
    {
      "cell_type": "code",
      "source": [
        "from sklearn.metrics import classification_report\n",
        "\n",
        "# predict \n",
        "predictions = model.predict(X_train, batch_size = 32)\n",
        "pred = np.argmax(predictions, axis=1)\n",
        "# label\n",
        "y_train = np.argmax(y_train, axis=1)\n",
        "\n",
        "print(y_train.shape, pred.shape)\n",
        "print(y_train[:5], pred[:5])"
      ],
      "metadata": {
        "colab": {
          "base_uri": "https://localhost:8080/"
        },
        "id": "tPs0yhJmPP5s",
        "outputId": "7ebabe93-c1c9-4ee4-db44-c60d860950ce"
      },
      "execution_count": 21,
      "outputs": [
        {
          "output_type": "stream",
          "name": "stdout",
          "text": [
            "(7553,) (7553,)\n",
            "[14 12  5 17 12] [14 12  5 17 12]\n"
          ]
        }
      ]
    },
    {
      "cell_type": "code",
      "source": [
        "print(classification_report(y_train, pred))"
      ],
      "metadata": {
        "colab": {
          "base_uri": "https://localhost:8080/"
        },
        "id": "HXHlfOVwPzy-",
        "outputId": "f3751c74-6fe8-42d5-f080-a521eeafbda5"
      },
      "execution_count": 22,
      "outputs": [
        {
          "output_type": "stream",
          "name": "stdout",
          "text": [
            "              precision    recall  f1-score   support\n",
            "\n",
            "           0       1.00      1.00      1.00       455\n",
            "           1       1.00      0.99      1.00       440\n",
            "           2       1.00      0.99      1.00       326\n",
            "           3       1.00      1.00      1.00       402\n",
            "           4       1.00      1.00      1.00       390\n",
            "           5       1.00      1.00      1.00       325\n",
            "           6       1.00      1.00      1.00       442\n",
            "           7       0.99      1.00      0.99       414\n",
            "           8       1.00      0.99      1.00       420\n",
            "           9       1.00      1.00      1.00       420\n",
            "          10       1.00      1.00      1.00       427\n",
            "          11       0.83      0.73      0.78       480\n",
            "          12       1.00      1.00      1.00       438\n",
            "          13       0.83      0.93      0.88       453\n",
            "          14       0.76      0.77      0.76       469\n",
            "          15       1.00      1.00      1.00       467\n",
            "          16       1.00      0.99      1.00       338\n",
            "          17       1.00      1.00      1.00       284\n",
            "          18       0.98      1.00      0.99       163\n",
            "\n",
            "    accuracy                           0.96      7553\n",
            "   macro avg       0.97      0.97      0.97      7553\n",
            "weighted avg       0.96      0.96      0.96      7553\n",
            "\n"
          ]
        }
      ]
    },
    {
      "cell_type": "code",
      "execution_count": 31,
      "metadata": {
        "colab": {
          "base_uri": "https://localhost:8080/",
          "height": 204
        },
        "id": "PpT1ilGMxmok",
        "outputId": "e253e975-e1f6-4158-c5a6-cfad4ac41cbc"
      },
      "outputs": [
        {
          "output_type": "execute_result",
          "data": {
            "text/plain": [
              "<matplotlib.image.AxesImage at 0x7fa648ed4290>"
            ]
          },
          "metadata": {},
          "execution_count": 31
        },
        {
          "output_type": "display_data",
          "data": {
            "text/plain": [
              "<Figure size 432x288 with 1 Axes>"
            ],
            "image/png": "[encoded data removed]"
          },
          "metadata": {}
        }
      ],
      "source": [
        "img = cv2.imread('/content/Untitled2.png',cv2.IMREAD_GRAYSCALE)\n",
        "plt.imshow(img)"
      ]
    },
    {
      "cell_type": "code",
      "execution_count": 32,
      "metadata": {
        "colab": {
          "base_uri": "https://localhost:8080/"
        },
        "id": "ilA5rEMUkff9",
        "outputId": "5b22f473-27ac-42eb-841b-2b499240104e"
      },
      "outputs": [
        {
          "output_type": "stream",
          "name": "stdout",
          "text": [
            "10\n",
            "0\n",
            "[[123, 62, 153, 279], [287, 243, 94, 90], [433, 243, 67, 10], [520, 107, 130, 227], [707, 222, 88, 5], [710, 262, 82, 5], [864, 134, 101, 225], [1008, 240, 78, 20], [1152, 147, 22, 198], [1206, 154, 117, 196]]\n"
          ]
        }
      ],
      "source": [
        "if img is not None:\n",
        "    img=~img\n",
        "    _,thresh=cv2.threshold(img,127,255,cv2.THRESH_BINARY)\n",
        "    ctrs,_=cv2.findContours(thresh,cv2.RETR_EXTERNAL,cv2.CHAIN_APPROX_NONE)\n",
        "    cnt=sorted(ctrs, key=lambda ctr: cv2.boundingRect(ctr)[0])\n",
        "    w=int(28)\n",
        "    h=int(28)\n",
        "    train_data=[]\n",
        "    print(len(cnt))\n",
        "    rects=[]\n",
        "    for c in cnt :\n",
        "        x,y,w,h= cv2.boundingRect(c)\n",
        "        rect=[x,y,w,h]\n",
        "        rects.append(rect)\n",
        "    bool_rect=[]\n",
        "    for r in rects:\n",
        "        l=[]\n",
        "        for rec in rects:\n",
        "            flag=0\n",
        "            if rec!=r:\n",
        "                if r[0]<(rec[0]+rec[2]+10) and rec[0]<(r[0]+r[2]+10) and r[1]<(rec[1]+rec[3]+10) and rec[1]<(r[1]+r[3]+10):\n",
        "                    flag=1\n",
        "                l.append(flag)\n",
        "            if rec==r:\n",
        "                l.append(0)\n",
        "        bool_rect.append(l)\n",
        "    dump_rect=[]\n",
        "    for i in range(0,len(cnt)):\n",
        "        for j in range(0,len(cnt)):\n",
        "            if bool_rect[i][j]==1:\n",
        "                area1=rects[i][2]*rects[i][3]\n",
        "                area2=rects[j][2]*rects[j][3]\n",
        "                if(area1==min(area1,area2)):\n",
        "                    dump_rect.append(rects[i])\n",
        "    print(len(dump_rect)) \n",
        "    final_rect=[i for i in rects if i not in dump_rect]\n",
        "    print(final_rect)\n",
        "    for r in final_rect:\n",
        "        x=r[0]\n",
        "        y=r[1]\n",
        "        w=r[2]\n",
        "        h=r[3]\n",
        "        im_crop =thresh[y:y+h+10,x:x+w+10]\n",
        "        im_resize = cv2.resize(im_crop,(28,28))\n",
        "        im_resize=np.reshape(im_resize,(28,28,1))\n",
        "        train_data.append(im_resize)"
      ]
    },
    {
      "cell_type": "code",
      "execution_count": 36,
      "metadata": {
        "colab": {
          "base_uri": "https://localhost:8080/",
          "height": 1000
        },
        "id": "hSR50RFbx7hz",
        "outputId": "d3b0beea-24cb-49fd-b385-d329cea1ca4c"
      },
      "outputs": [
        {
          "output_type": "stream",
          "name": "stdout",
          "text": [
            "\n",
            "\n",
            "---------------------------------------\n",
            "\n",
            "\n",
            "=========PREDICTION============ \n",
            "\n",
            "\n"
          ]
        },
        {
          "output_type": "display_data",
          "data": {
            "text/plain": [
              "<Figure size 432x288 with 1 Axes>"
            ],
            "image/png": "[encoded data removed]"
          },
          "metadata": {}
        },
        {
          "output_type": "stream",
          "name": "stdout",
          "text": [
            "\n",
            "\n",
            "Final Output: 6\n",
            "\n",
            "Prediction (Softmax) from the neural network:\n",
            "\n",
            " [[2.6592582e-15 3.3164934e-20 1.0223755e-17 6.8255890e-10 5.5588165e-17\n",
            "  1.1959622e-02 9.8802626e-01 1.1111303e-23 1.4184379e-05 4.4406544e-11\n",
            "  1.2642114e-22 2.0719853e-18 1.7819091e-26 3.7012629e-16 6.8554944e-21\n",
            "  5.7130404e-18 1.5053852e-19 1.3954042e-15 2.5912834e-22]]\n",
            "\n",
            "\n",
            "Hard-maxed form of the prediction: \n",
            "\n",
            " [[0. 0. 0. 0. 0. 0. 1. 0. 0. 0. 0. 0. 0. 0. 0. 0. 0. 0. 0.]]\n",
            "\n",
            "\n",
            "---------------------------------------\n",
            "\n",
            "\n",
            "\n",
            "\n",
            "---------------------------------------\n",
            "\n",
            "\n",
            "=========PREDICTION============ \n",
            "\n",
            "\n"
          ]
        },
        {
          "output_type": "display_data",
          "data": {
            "text/plain": [
              "<Figure size 432x288 with 1 Axes>"
            ],
            "image/png": "[encoded data removed]"
          },
          "metadata": {}
        },
        {
          "output_type": "stream",
          "name": "stdout",
          "text": [
            "\n",
            "\n",
            "Final Output: 16\n",
            "\n",
            "Prediction (Softmax) from the neural network:\n",
            "\n",
            " [[1.3520754e-06 9.0092374e-07 2.9399071e-06 8.5664792e-10 1.0500837e-09\n",
            "  4.4511643e-07 5.2151172e-05 5.2853251e-12 9.0574372e-07 1.0860103e-05\n",
            "  1.2074414e-06 2.1997814e-06 1.1412305e-04 1.3123362e-06 1.5225808e-11\n",
            "  5.2260640e-11 9.9981159e-01 1.6220145e-09 4.7820738e-09]]\n",
            "\n",
            "\n",
            "Hard-maxed form of the prediction: \n",
            "\n",
            " [[0. 0. 0. 0. 0. 0. 0. 0. 0. 0. 0. 0. 0. 0. 0. 0. 1. 0. 0.]]\n",
            "\n",
            "\n",
            "---------------------------------------\n",
            "\n",
            "\n",
            "\n",
            "\n",
            "---------------------------------------\n",
            "\n",
            "\n",
            "=========PREDICTION============ \n",
            "\n",
            "\n"
          ]
        },
        {
          "output_type": "display_data",
          "data": {
            "text/plain": [
              "<Figure size 432x288 with 1 Axes>"
            ],
            "image/png": "[encoded data removed]"
          },
          "metadata": {}
        },
        {
          "output_type": "stream",
          "name": "stdout",
          "text": [
            "\n",
            "\n",
            "Final Output: 11\n",
            "\n",
            "Prediction (Softmax) from the neural network:\n",
            "\n",
            " [[1.7302924e-08 2.0240601e-07 1.4189123e-14 3.1012853e-05 4.5749803e-06\n",
            "  2.3543086e-08 2.7192142e-09 3.2742023e-10 3.4305183e-09 1.2626673e-09\n",
            "  9.4390253e-07 9.5374119e-01 2.8759203e-10 5.7447590e-03 4.0472522e-02\n",
            "  4.6595092e-06 1.6155655e-08 2.6425429e-10 3.8047177e-10]]\n",
            "\n",
            "\n",
            "Hard-maxed form of the prediction: \n",
            "\n",
            " [[0. 0. 0. 0. 0. 0. 0. 0. 0. 0. 0. 1. 0. 0. 0. 0. 0. 0. 0.]]\n",
            "\n",
            "\n",
            "---------------------------------------\n",
            "\n",
            "\n",
            "\n",
            "\n",
            "---------------------------------------\n",
            "\n",
            "\n",
            "=========PREDICTION============ \n",
            "\n",
            "\n"
          ]
        },
        {
          "output_type": "display_data",
          "data": {
            "text/plain": [
              "<Figure size 432x288 with 1 Axes>"
            ],
            "image/png": "[encoded data removed]"
          },
          "metadata": {}
        },
        {
          "output_type": "stream",
          "name": "stdout",
          "text": [
            "\n",
            "\n",
            "Final Output: 2\n",
            "\n",
            "Prediction (Softmax) from the neural network:\n",
            "\n",
            " [[5.64024793e-13 2.23600449e-09 1.00000000e+00 2.09780415e-10\n",
            "  4.47360769e-16 6.16393537e-20 4.23509283e-11 2.44075177e-10\n",
            "  1.42233203e-13 3.14145598e-10 1.86924207e-17 2.13554666e-18\n",
            "  8.42013471e-13 1.59641041e-16 1.83936286e-18 6.57287344e-20\n",
            "  1.39517309e-09 8.06332506e-15 1.44393586e-11]]\n",
            "\n",
            "\n",
            "Hard-maxed form of the prediction: \n",
            "\n",
            " [[0. 0. 1. 0. 0. 0. 0. 0. 0. 0. 0. 0. 0. 0. 0. 0. 0. 0. 0.]]\n",
            "\n",
            "\n",
            "---------------------------------------\n",
            "\n",
            "\n",
            "\n",
            "\n",
            "---------------------------------------\n",
            "\n",
            "\n",
            "=========PREDICTION============ \n",
            "\n",
            "\n"
          ]
        },
        {
          "output_type": "display_data",
          "data": {
            "text/plain": [
              "<Figure size 432x288 with 1 Axes>"
            ],
            "image/png": "[encoded data removed]"
          },
          "metadata": {}
        },
        {
          "output_type": "stream",
          "name": "stdout",
          "text": [
            "\n",
            "\n",
            "Final Output: 11\n",
            "\n",
            "Prediction (Softmax) from the neural network:\n",
            "\n",
            " [[4.8499910e-06 4.5011860e-05 6.3892763e-08 1.8186403e-03 5.1736028e-04\n",
            "  8.1138533e-06 3.4282919e-05 1.6535653e-06 4.3582662e-05 8.3081686e-06\n",
            "  4.3715452e-05 6.7374748e-01 3.8317917e-06 1.6301362e-01 1.5929756e-01\n",
            "  1.3979962e-03 1.1085436e-05 1.2054210e-06 1.6381971e-06]]\n",
            "\n",
            "\n",
            "Hard-maxed form of the prediction: \n",
            "\n",
            " [[0. 0. 0. 0. 0. 0. 0. 0. 0. 0. 0. 1. 0. 0. 0. 0. 0. 0. 0.]]\n",
            "\n",
            "\n",
            "---------------------------------------\n",
            "\n",
            "\n",
            "\n",
            "\n",
            "---------------------------------------\n",
            "\n",
            "\n",
            "=========PREDICTION============ \n",
            "\n",
            "\n"
          ]
        },
        {
          "output_type": "display_data",
          "data": {
            "text/plain": [
              "<Figure size 432x288 with 1 Axes>"
            ],
            "image/png": "[encoded data removed]"
          },
          "metadata": {}
        },
        {
          "output_type": "stream",
          "name": "stdout",
          "text": [
            "\n",
            "\n",
            "Final Output: 11\n",
            "\n",
            "Prediction (Softmax) from the neural network:\n",
            "\n",
            " [[4.8499910e-06 4.5011860e-05 6.3892763e-08 1.8186403e-03 5.1736028e-04\n",
            "  8.1138533e-06 3.4282919e-05 1.6535653e-06 4.3582662e-05 8.3081686e-06\n",
            "  4.3715452e-05 6.7374748e-01 3.8317917e-06 1.6301362e-01 1.5929756e-01\n",
            "  1.3979962e-03 1.1085436e-05 1.2054210e-06 1.6381971e-06]]\n",
            "\n",
            "\n",
            "Hard-maxed form of the prediction: \n",
            "\n",
            " [[0. 0. 0. 0. 0. 0. 0. 0. 0. 0. 0. 1. 0. 0. 0. 0. 0. 0. 0.]]\n",
            "\n",
            "\n",
            "---------------------------------------\n",
            "\n",
            "\n",
            "\n",
            "\n",
            "---------------------------------------\n",
            "\n",
            "\n",
            "=========PREDICTION============ \n",
            "\n",
            "\n"
          ]
        },
        {
          "output_type": "display_data",
          "data": {
            "text/plain": [
              "<Figure size 432x288 with 1 Axes>"
            ],
            "image/png": "[encoded data removed]"
          },
          "metadata": {}
        },
        {
          "output_type": "stream",
          "name": "stdout",
          "text": [
            "\n",
            "\n",
            "Final Output: 3\n",
            "\n",
            "Prediction (Softmax) from the neural network:\n",
            "\n",
            " [[3.6154514e-08 1.1077894e-16 1.8333223e-12 9.9999964e-01 1.5756633e-13\n",
            "  7.4833897e-14 1.1579107e-08 2.0049908e-09 3.1647792e-07 4.9486495e-08\n",
            "  6.3731549e-18 9.4576541e-14 2.0320069e-19 7.6188795e-12 8.7355595e-11\n",
            "  1.6788796e-12 2.3298045e-12 8.6668005e-15 8.3011083e-13]]\n",
            "\n",
            "\n",
            "Hard-maxed form of the prediction: \n",
            "\n",
            " [[0. 0. 0. 1. 0. 0. 0. 0. 0. 0. 0. 0. 0. 0. 0. 0. 0. 0. 0.]]\n",
            "\n",
            "\n",
            "---------------------------------------\n",
            "\n",
            "\n",
            "\n",
            "\n",
            "---------------------------------------\n",
            "\n",
            "\n",
            "=========PREDICTION============ \n",
            "\n",
            "\n"
          ]
        },
        {
          "output_type": "display_data",
          "data": {
            "text/plain": [
              "<Figure size 432x288 with 1 Axes>"
            ],
            "image/png": "[encoded data removed]"
          },
          "metadata": {}
        },
        {
          "output_type": "stream",
          "name": "stdout",
          "text": [
            "\n",
            "\n",
            "Final Output: 11\n",
            "\n",
            "Prediction (Softmax) from the neural network:\n",
            "\n",
            " [[1.7613135e-10 5.2996758e-09 3.6329410e-12 1.3810148e-06 8.2576577e-08\n",
            "  2.1749538e-09 1.4938115e-08 8.3879995e-12 2.3564070e-07 8.8905772e-11\n",
            "  5.0663220e-09 9.8194790e-01 4.4515508e-10 2.3944355e-03 1.5652787e-02\n",
            "  3.1911343e-06 2.4473443e-09 1.0878486e-11 2.5110960e-11]]\n",
            "\n",
            "\n",
            "Hard-maxed form of the prediction: \n",
            "\n",
            " [[0. 0. 0. 0. 0. 0. 0. 0. 0. 0. 0. 1. 0. 0. 0. 0. 0. 0. 0.]]\n",
            "\n",
            "\n",
            "---------------------------------------\n",
            "\n",
            "\n",
            "\n",
            "\n",
            "---------------------------------------\n",
            "\n",
            "\n",
            "=========PREDICTION============ \n",
            "\n",
            "\n"
          ]
        },
        {
          "output_type": "display_data",
          "data": {
            "text/plain": [
              "<Figure size 432x288 with 1 Axes>"
            ],
            "image/png": "[encoded data removed]"
          },
          "metadata": {}
        },
        {
          "output_type": "stream",
          "name": "stdout",
          "text": [
            "\n",
            "\n",
            "Final Output: 1\n",
            "\n",
            "Prediction (Softmax) from the neural network:\n",
            "\n",
            " [[6.8570159e-08 9.9996436e-01 6.6645773e-09 9.0202175e-09 1.5674557e-08\n",
            "  5.7213838e-06 7.6944666e-11 9.9120150e-11 1.7288593e-10 3.8129621e-11\n",
            "  3.1974031e-11 1.3982816e-07 8.2235624e-10 7.0005246e-10 8.7080697e-11\n",
            "  7.5973494e-09 2.9638684e-05 4.8851521e-13 4.6376871e-09]]\n",
            "\n",
            "\n",
            "Hard-maxed form of the prediction: \n",
            "\n",
            " [[0. 1. 0. 0. 0. 0. 0. 0. 0. 0. 0. 0. 0. 0. 0. 0. 0. 0. 0.]]\n",
            "\n",
            "\n",
            "---------------------------------------\n",
            "\n",
            "\n",
            "\n",
            "\n",
            "---------------------------------------\n",
            "\n",
            "\n",
            "=========PREDICTION============ \n",
            "\n",
            "\n"
          ]
        },
        {
          "output_type": "display_data",
          "data": {
            "text/plain": [
              "<Figure size 432x288 with 1 Axes>"
            ],
            "image/png": "[encoded data removed]"
          },
          "metadata": {}
        },
        {
          "output_type": "stream",
          "name": "stdout",
          "text": [
            "\n",
            "\n",
            "Final Output: 0\n",
            "\n",
            "Prediction (Softmax) from the neural network:\n",
            "\n",
            " [[9.99999881e-01 1.93016644e-11 9.47011675e-13 1.62724461e-07\n",
            "  6.78184553e-15 8.81681325e-11 1.46773447e-08 1.47412464e-13\n",
            "  2.99271358e-10 2.46062642e-10 3.57212493e-19 4.23736870e-12\n",
            "  3.39538027e-15 3.09739891e-13 2.60489221e-12 1.01279204e-14\n",
            "  7.20949467e-15 2.24915681e-13 1.69227421e-15]]\n",
            "\n",
            "\n",
            "Hard-maxed form of the prediction: \n",
            "\n",
            " [[1. 0. 0. 0. 0. 0. 0. 0. 0. 0. 0. 0. 0. 0. 0. 0. 0. 0. 0.]]\n",
            "\n",
            "\n",
            "---------------------------------------\n",
            "\n",
            "\n"
          ]
        }
      ],
      "source": [
        "for digit in train_data:\n",
        "    prediction = model.predict(digit.reshape(1, 28, 28, 1))  \n",
        "    \n",
        "    print (\"\\n\\n---------------------------------------\\n\\n\")\n",
        "    print (\"=========PREDICTION============ \\n\\n\")\n",
        "    plt.imshow(digit.reshape(28, 28), cmap=\"gray\")\n",
        "    plt.show()\n",
        "    print(\"\\n\\nFinal Output: {}\".format(np.argmax(prediction)))\n",
        "    \n",
        "    print (\"\\nPrediction (Softmax) from the neural network:\\n\\n {}\".format(prediction))\n",
        "    \n",
        "    hard_maxed_prediction = np.zeros(prediction.shape)\n",
        "    hard_maxed_prediction[0][np.argmax(prediction)] = 1\n",
        "    print (\"\\n\\nHard-maxed form of the prediction: \\n\\n {}\".format(hard_maxed_prediction))\n",
        "    print (\"\\n\\n---------------------------------------\\n\\n\")"
      ]
    },
    {
      "cell_type": "code",
      "execution_count": 37,
      "metadata": {
        "id": "OS9NvQ7gyBfJ",
        "colab": {
          "base_uri": "https://localhost:8080/"
        },
        "outputId": "5ef87d36-756e-4b52-90bb-bd022eaa7a74"
      },
      "outputs": [
        {
          "output_type": "stream",
          "name": "stdout",
          "text": [
            "Your Equation : 6x-2=3-10\n"
          ]
        }
      ],
      "source": [
        "equation=''\n",
        "\n",
        "for i in range(len(train_data)):\n",
        "    \n",
        "    train_data[i]=np.array(train_data[i])\n",
        "    train_data[i]=train_data[i].reshape(1,28,28,1)\n",
        "    result=np.argmax(model.predict(train_data[i]), axis=-1)\n",
        "        \n",
        "    for j in range(10) :\n",
        "        if result[0] == j :\n",
        "            equation = equation + str(j)\n",
        "    \n",
        "    if result[0] == 10 :\n",
        "        equation = equation + \"+\"\n",
        "    if result[0] == 11 :\n",
        "        equation = equation + \"-\"\n",
        "    if result[0] == 12 :\n",
        "        equation = equation + \"*\"\n",
        "    if result[0] == 13 :\n",
        "        equation = equation + \"/\"\n",
        "    if result[0] == 14 :\n",
        "        equation = equation + \"=\"\n",
        "    if result[0] == 15 :\n",
        "        equation = equation + \".\"\n",
        "    if result[0] == 16 :\n",
        "        equation = equation + \"x\"\n",
        "    if result[0] == 17 :\n",
        "        equation = equation + \"y\"      \n",
        "    if result[0] == 18 :\n",
        "        equation = equation + \"z\"\n",
        "\n",
        "    s=equation\n",
        "t=\"\"\n",
        "i=0\n",
        "while i<len(s):\n",
        "    if s[i]==\"-\" and s[i+1]==\"-\":\n",
        "        t=t+\"=\"\n",
        "        i=i+2\n",
        "    else: \n",
        "        t=t+s[i]\n",
        "        i=i+1\n",
        "\n",
        "equation=t\n",
        "    \n",
        "print(\"Your Equation :\", equation)"
      ]
    },
    {
      "cell_type": "code",
      "execution_count": 38,
      "metadata": {
        "id": "TkcTUp1m-Hu3"
      },
      "outputs": [],
      "source": [
        "import sympy as sp\n",
        "def lsttostr(lst):\n",
        "    str = \"\"\n",
        "    for i in lst:\n",
        "        str += i\n",
        "    return str"
      ]
    },
    {
      "cell_type": "code",
      "execution_count": 39,
      "metadata": {
        "id": "n4ZUby9y7eTg"
      },
      "outputs": [],
      "source": [
        "equation = list(equation)\n",
        "temp2 = 0\n",
        "for i in equation:\n",
        "    if i == '=':\n",
        "        equation[temp2] = '-('\n",
        "        equation += ')'\n",
        "    temp2 += 1\n",
        "equation = lsttostr(equation)\n",
        "#print(equation)"
      ]
    },
    {
      "cell_type": "code",
      "source": [
        "alpha = 'abcdefghijklmnopqrstuvwxyz'\n",
        "equation = list(equation)\n",
        "\n",
        "temp = 0\n",
        "\n",
        "for i in equation:\n",
        "    if i in alpha:\n",
        "        var = i\n",
        "        equation[equation.index(i)] = 'a'\n",
        "        temp += 1\n",
        "equation = lsttostr(equation)\n",
        "#print(equation)"
      ],
      "metadata": {
        "id": "aMNbFx8O7b_v"
      },
      "execution_count": 40,
      "outputs": []
    },
    {
      "cell_type": "code",
      "execution_count": 41,
      "metadata": {
        "colab": {
          "base_uri": "https://localhost:8080/"
        },
        "id": "sNwMXhPW-rA6",
        "outputId": "6b34ec51-2119-4db7-b589-890886b69340"
      },
      "outputs": [
        {
          "output_type": "stream",
          "name": "stdout",
          "text": [
            "[-5/6]\n"
          ]
        }
      ],
      "source": [
        "a = sp.symbols('a')\n",
        "#eq_raw = eval(equation)\n",
        "#print(eq_raw)      \n",
        "\n",
        "if temp != 0:\n",
        "    s=equation\n",
        "    t=\"\"\n",
        "    i=0\n",
        "    while i<len(s):\n",
        "        if (s[i] in '123456789') and (s[i+1]==\"a\"):\n",
        "            t=t+s[i]+\"*\"+s[i+1]\n",
        "            i=i+2\n",
        "        else: \n",
        "            t=t+s[i]\n",
        "            i=i+1\n",
        "\n",
        "    equation=t\n",
        "    eq_raw = eval(equation)\n",
        "    eq = sp.Eq(eq_raw, 0)\n",
        "    print(sp.solve(eq, a))\n",
        "else:\n",
        "    eq_raw = eval(equation)\n",
        "    print(eq_raw)"
      ]
    }
  ],
  "metadata": {
    "colab": {
      "name": "Math Equation Solver2.ipynb",
      "provenance": [],
      "collapsed_sections": [],
      "authorship_tag": "ABX9TyNZdjNQVFnVaHEphCNxX+HK",
      "include_colab_link": true
    },
    "kernelspec": {
      "display_name": "Python 3",
      "name": "python3"
    },
    "language_info": {
      "name": "python"
    },
    "gpuClass": "standard"
  },
  "nbformat": 4,
  "nbformat_minor": 0
}