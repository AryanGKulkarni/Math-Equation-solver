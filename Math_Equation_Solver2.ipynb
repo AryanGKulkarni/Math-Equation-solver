{
  "cells": [
    {
      "cell_type": "markdown",
      "metadata": {
        "id": "view-in-github",
        "colab_type": "text"
      },
      "source": [
        "<a href=\"https://colab.research.google.com/github/AryanGKulkarni/Math-Equation-solver/blob/master/Math_Equation_Solver2.ipynb\" target=\"_parent\"><img src=\"https://colab.research.google.com/assets/colab-badge.svg\" alt=\"Open In Colab\"/></a>"
      ]
    },
    {
      "cell_type": "code",
      "execution_count": null,
      "metadata": {
        "colab": {
          "base_uri": "https://localhost:8080/"
        },
        "id": "B8xtbWb-p9rh",
        "outputId": "f3fa2779-8e5e-4d66-c7b2-379d985b815e"
      },
      "outputs": [
        {
          "output_type": "stream",
          "name": "stdout",
          "text": [
            "Loading...\n",
            "Done\n"
          ]
        }
      ],
      "source": [
        "print(\"Loading...\")\n",
        "\n",
        "# common libraries\n",
        "import numpy as np\n",
        "import pandas as pd\n",
        "from matplotlib import pyplot as plt\n",
        "import matplotlib.image as mpimg\n",
        "%matplotlib inline\n",
        "import os\n",
        "from os import listdir\n",
        "from os.path import isfile, join\n",
        "\n",
        "# CV and Image\n",
        "import cv2\n",
        "from PIL import Image\n",
        "\n",
        "# pickle\n",
        "import pickle\n",
        "\n",
        "# keras\n",
        "import keras\n",
        "from keras import optimizers\n",
        "from keras import backend as K\n",
        "from keras.models import Model, Sequential, load_model\n",
        "from keras.layers import *\n",
        "from keras.layers import Input, Dense, Dropout, Flatten\n",
        "from keras.utils import np_utils\n",
        "from keras.layers.convolutional import Conv2D, MaxPooling2D\n",
        "from keras.utils.np_utils import to_categorical\n",
        "from keras.utils.vis_utils import plot_model\n",
        "from tensorflow.keras.callbacks import ModelCheckpoint\n",
        "from tensorflow.keras.optimizers import Adam\n",
        "K.image_data_format()\n",
        "\n",
        "print(\"Done\")"
      ]
    },
    {
      "cell_type": "code",
      "execution_count": null,
      "metadata": {
        "id": "EqLAM-HBslvG"
      },
      "outputs": [],
      "source": [
        "import numpy as np \n",
        "import pandas as pd \n",
        "import matplotlib.pyplot as plt\n",
        "import seaborn as sns\n",
        "import os\n",
        "import cv2\n",
        "from google.colab.patches import cv2_imshow\n",
        "from sklearn.preprocessing import MinMaxScaler\n",
        "import tensorflow as tf\n",
        "from keras.models import Sequential\n",
        "from keras.layers import Dense\n",
        "from keras.layers import Dropout\n",
        "from keras.layers import Flatten\n",
        "from keras.layers.convolutional import Conv2D\n",
        "from keras.layers.convolutional import MaxPooling2D\n",
        "from keras import backend as K\n",
        "from keras.utils import np_utils\n",
        "from sklearn.model_selection import train_test_split\n",
        "from sklearn.metrics import confusion_matrix\n",
        "\n",
        "#ignore warning messages \n",
        "import warnings\n",
        "warnings.filterwarnings('ignore') \n",
        "\n",
        "sns.set()"
      ]
    },
    {
      "cell_type": "code",
      "execution_count": null,
      "metadata": {
        "colab": {
          "base_uri": "https://localhost:8080/",
          "height": 235
        },
        "id": "IuQrpLKDqPrV",
        "outputId": "7a483f0b-e027-4e4b-aba2-ea1c2f4af061"
      },
      "outputs": [
        {
          "output_type": "execute_result",
          "data": {
            "text/plain": [
              "   1x1  1x2  1x3  1x4  1x5  1x6  1x7  1x8  1x9  1x10  ...  28x19  28x20  \\\n",
              "0    0    0    0    0   18  255  255  255  255   255  ...      0      0   \n",
              "1    0    0    0    0    1  255  255  255  255   255  ...      0      0   \n",
              "2    0    0    0    0    0    0  113  132  185   255  ...      0      0   \n",
              "3    0    0    0    0    0    0    0  255  255   255  ...      0      0   \n",
              "4    0    0  198  255  255  255  255  111    0     0  ...      0      0   \n",
              "\n",
              "   28x21  28x22  28x23  28x24  28x25  28x26  28x27  28x28  \n",
              "0      0      0      0      0      0      0      0      0  \n",
              "1      0      0      0      0      0      0      0      0  \n",
              "2      0      0      0      0      0      0      0      0  \n",
              "3      0      0      0      0      0      0      0      0  \n",
              "4      0      0      0      0      0      0      0      0  \n",
              "\n",
              "[5 rows x 784 columns]"
            ],
            "text/html": [
              "\n",
              "  <div id=\"df-589267c6-3ea0-4b57-8336-d98f53560366\">\n",
              "    <div class=\"colab-df-container\">\n",
              "      <div>\n",
              "<style scoped>\n",
              "    .dataframe tbody tr th:only-of-type {\n",
              "        vertical-align: middle;\n",
              "    }\n",
              "\n",
              "    .dataframe tbody tr th {\n",
              "        vertical-align: top;\n",
              "    }\n",
              "\n",
              "    .dataframe thead th {\n",
              "        text-align: right;\n",
              "    }\n",
              "</style>\n",
              "<table border=\"1\" class=\"dataframe\">\n",
              "  <thead>\n",
              "    <tr style=\"text-align: right;\">\n",
              "      <th></th>\n",
              "      <th>1x1</th>\n",
              "      <th>1x2</th>\n",
              "      <th>1x3</th>\n",
              "      <th>1x4</th>\n",
              "      <th>1x5</th>\n",
              "      <th>1x6</th>\n",
              "      <th>1x7</th>\n",
              "      <th>1x8</th>\n",
              "      <th>1x9</th>\n",
              "      <th>1x10</th>\n",
              "      <th>...</th>\n",
              "      <th>28x19</th>\n",
              "      <th>28x20</th>\n",
              "      <th>28x21</th>\n",
              "      <th>28x22</th>\n",
              "      <th>28x23</th>\n",
              "      <th>28x24</th>\n",
              "      <th>28x25</th>\n",
              "      <th>28x26</th>\n",
              "      <th>28x27</th>\n",
              "      <th>28x28</th>\n",
              "    </tr>\n",
              "  </thead>\n",
              "  <tbody>\n",
              "    <tr>\n",
              "      <th>0</th>\n",
              "      <td>0</td>\n",
              "      <td>0</td>\n",
              "      <td>0</td>\n",
              "      <td>0</td>\n",
              "      <td>18</td>\n",
              "      <td>255</td>\n",
              "      <td>255</td>\n",
              "      <td>255</td>\n",
              "      <td>255</td>\n",
              "      <td>255</td>\n",
              "      <td>...</td>\n",
              "      <td>0</td>\n",
              "      <td>0</td>\n",
              "      <td>0</td>\n",
              "      <td>0</td>\n",
              "      <td>0</td>\n",
              "      <td>0</td>\n",
              "      <td>0</td>\n",
              "      <td>0</td>\n",
              "      <td>0</td>\n",
              "      <td>0</td>\n",
              "    </tr>\n",
              "    <tr>\n",
              "      <th>1</th>\n",
              "      <td>0</td>\n",
              "      <td>0</td>\n",
              "      <td>0</td>\n",
              "      <td>0</td>\n",
              "      <td>1</td>\n",
              "      <td>255</td>\n",
              "      <td>255</td>\n",
              "      <td>255</td>\n",
              "      <td>255</td>\n",
              "      <td>255</td>\n",
              "      <td>...</td>\n",
              "      <td>0</td>\n",
              "      <td>0</td>\n",
              "      <td>0</td>\n",
              "      <td>0</td>\n",
              "      <td>0</td>\n",
              "      <td>0</td>\n",
              "      <td>0</td>\n",
              "      <td>0</td>\n",
              "      <td>0</td>\n",
              "      <td>0</td>\n",
              "    </tr>\n",
              "    <tr>\n",
              "      <th>2</th>\n",
              "      <td>0</td>\n",
              "      <td>0</td>\n",
              "      <td>0</td>\n",
              "      <td>0</td>\n",
              "      <td>0</td>\n",
              "      <td>0</td>\n",
              "      <td>113</td>\n",
              "      <td>132</td>\n",
              "      <td>185</td>\n",
              "      <td>255</td>\n",
              "      <td>...</td>\n",
              "      <td>0</td>\n",
              "      <td>0</td>\n",
              "      <td>0</td>\n",
              "      <td>0</td>\n",
              "      <td>0</td>\n",
              "      <td>0</td>\n",
              "      <td>0</td>\n",
              "      <td>0</td>\n",
              "      <td>0</td>\n",
              "      <td>0</td>\n",
              "    </tr>\n",
              "    <tr>\n",
              "      <th>3</th>\n",
              "      <td>0</td>\n",
              "      <td>0</td>\n",
              "      <td>0</td>\n",
              "      <td>0</td>\n",
              "      <td>0</td>\n",
              "      <td>0</td>\n",
              "      <td>0</td>\n",
              "      <td>255</td>\n",
              "      <td>255</td>\n",
              "      <td>255</td>\n",
              "      <td>...</td>\n",
              "      <td>0</td>\n",
              "      <td>0</td>\n",
              "      <td>0</td>\n",
              "      <td>0</td>\n",
              "      <td>0</td>\n",
              "      <td>0</td>\n",
              "      <td>0</td>\n",
              "      <td>0</td>\n",
              "      <td>0</td>\n",
              "      <td>0</td>\n",
              "    </tr>\n",
              "    <tr>\n",
              "      <th>4</th>\n",
              "      <td>0</td>\n",
              "      <td>0</td>\n",
              "      <td>198</td>\n",
              "      <td>255</td>\n",
              "      <td>255</td>\n",
              "      <td>255</td>\n",
              "      <td>255</td>\n",
              "      <td>111</td>\n",
              "      <td>0</td>\n",
              "      <td>0</td>\n",
              "      <td>...</td>\n",
              "      <td>0</td>\n",
              "      <td>0</td>\n",
              "      <td>0</td>\n",
              "      <td>0</td>\n",
              "      <td>0</td>\n",
              "      <td>0</td>\n",
              "      <td>0</td>\n",
              "      <td>0</td>\n",
              "      <td>0</td>\n",
              "      <td>0</td>\n",
              "    </tr>\n",
              "  </tbody>\n",
              "</table>\n",
              "<p>5 rows × 784 columns</p>\n",
              "</div>\n",
              "      <button class=\"colab-df-convert\" onclick=\"convertToInteractive('df-589267c6-3ea0-4b57-8336-d98f53560366')\"\n",
              "              title=\"Convert this dataframe to an interactive table.\"\n",
              "              style=\"display:none;\">\n",
              "        \n",
              "  <svg xmlns=\"http://www.w3.org/2000/svg\" height=\"24px\"viewBox=\"0 0 24 24\"\n",
              "       width=\"24px\">\n",
              "    <path d=\"M0 0h24v24H0V0z\" fill=\"none\"/>\n",
              "    <path d=\"M18.56 5.44l.94 2.06.94-2.06 2.06-.94-2.06-.94-.94-2.06-.94 2.06-2.06.94zm-11 1L8.5 8.5l.94-2.06 2.06-.94-2.06-.94L8.5 2.5l-.94 2.06-2.06.94zm10 10l.94 2.06.94-2.06 2.06-.94-2.06-.94-.94-2.06-.94 2.06-2.06.94z\"/><path d=\"M17.41 7.96l-1.37-1.37c-.4-.4-.92-.59-1.43-.59-.52 0-1.04.2-1.43.59L10.3 9.45l-7.72 7.72c-.78.78-.78 2.05 0 2.83L4 21.41c.39.39.9.59 1.41.59.51 0 1.02-.2 1.41-.59l7.78-7.78 2.81-2.81c.8-.78.8-2.07 0-2.86zM5.41 20L4 18.59l7.72-7.72 1.47 1.35L5.41 20z\"/>\n",
              "  </svg>\n",
              "      </button>\n",
              "      \n",
              "  <style>\n",
              "    .colab-df-container {\n",
              "      display:flex;\n",
              "      flex-wrap:wrap;\n",
              "      gap: 12px;\n",
              "    }\n",
              "\n",
              "    .colab-df-convert {\n",
              "      background-color: #E8F0FE;\n",
              "      border: none;\n",
              "      border-radius: 50%;\n",
              "      cursor: pointer;\n",
              "      display: none;\n",
              "      fill: #1967D2;\n",
              "      height: 32px;\n",
              "      padding: 0 0 0 0;\n",
              "      width: 32px;\n",
              "    }\n",
              "\n",
              "    .colab-df-convert:hover {\n",
              "      background-color: #E2EBFA;\n",
              "      box-shadow: 0px 1px 2px rgba(60, 64, 67, 0.3), 0px 1px 3px 1px rgba(60, 64, 67, 0.15);\n",
              "      fill: #174EA6;\n",
              "    }\n",
              "\n",
              "    [theme=dark] .colab-df-convert {\n",
              "      background-color: #3B4455;\n",
              "      fill: #D2E3FC;\n",
              "    }\n",
              "\n",
              "    [theme=dark] .colab-df-convert:hover {\n",
              "      background-color: #434B5C;\n",
              "      box-shadow: 0px 1px 3px 1px rgba(0, 0, 0, 0.15);\n",
              "      filter: drop-shadow(0px 1px 2px rgba(0, 0, 0, 0.3));\n",
              "      fill: #FFFFFF;\n",
              "    }\n",
              "  </style>\n",
              "\n",
              "      <script>\n",
              "        const buttonEl =\n",
              "          document.querySelector('#df-589267c6-3ea0-4b57-8336-d98f53560366 button.colab-df-convert');\n",
              "        buttonEl.style.display =\n",
              "          google.colab.kernel.accessAllowed ? 'block' : 'none';\n",
              "\n",
              "        async function convertToInteractive(key) {\n",
              "          const element = document.querySelector('#df-589267c6-3ea0-4b57-8336-d98f53560366');\n",
              "          const dataTable =\n",
              "            await google.colab.kernel.invokeFunction('convertToInteractive',\n",
              "                                                     [key], {});\n",
              "          if (!dataTable) return;\n",
              "\n",
              "          const docLinkHtml = 'Like what you see? Visit the ' +\n",
              "            '<a target=\"_blank\" href=https://colab.research.google.com/notebooks/data_table.ipynb>data table notebook</a>'\n",
              "            + ' to learn more about interactive tables.';\n",
              "          element.innerHTML = '';\n",
              "          dataTable['output_type'] = 'display_data';\n",
              "          await google.colab.output.renderOutput(dataTable, element);\n",
              "          const docLink = document.createElement('div');\n",
              "          docLink.innerHTML = docLinkHtml;\n",
              "          element.appendChild(docLink);\n",
              "        }\n",
              "      </script>\n",
              "    </div>\n",
              "  </div>\n",
              "  "
            ]
          },
          "metadata": {},
          "execution_count": 4
        }
      ],
      "source": [
        "data = pd.read_csv('/content/train_handwritten.csv',index_col=False)\n",
        "labels = data[['label']]\n",
        "\n",
        "data.drop(data.columns[[784]],axis=1,inplace=True)\n",
        "data.head()"
      ]
    },
    {
      "cell_type": "code",
      "execution_count": null,
      "metadata": {
        "colab": {
          "base_uri": "https://localhost:8080/"
        },
        "id": "E2prLLsrqWO3",
        "outputId": "9dcfef0c-3e64-4d2e-f0db-af16148b16bb"
      },
      "outputs": [
        {
          "output_type": "execute_result",
          "data": {
            "text/plain": [
              "array([1., 0., 0., 0., 0., 0., 0., 0., 0., 0., 0., 0., 0., 0., 0., 0., 0.,\n",
              "       0., 0.], dtype=float32)"
            ]
          },
          "metadata": {},
          "execution_count": 5
        }
      ],
      "source": [
        "np.random.seed(1212)\n",
        "labels=np.array(labels)\n",
        "cat=to_categorical(labels,num_classes=19)\n",
        "cat[0]"
      ]
    },
    {
      "cell_type": "code",
      "execution_count": null,
      "metadata": {
        "colab": {
          "base_uri": "https://localhost:8080/"
        },
        "id": "ZKuKxPtYrgNP",
        "outputId": "b3cca298-2643-4609-de0a-6cf9d56896aa"
      },
      "outputs": [
        {
          "output_type": "execute_result",
          "data": {
            "text/plain": [
              "(10071, 28, 28, 1)"
            ]
          },
          "metadata": {},
          "execution_count": 6
        }
      ],
      "source": [
        "temp=data.to_numpy()\n",
        "X_train = temp.reshape(temp.shape[0], 28, 28, 1)\n",
        "X_train.shape"
      ]
    },
    {
      "cell_type": "code",
      "execution_count": null,
      "metadata": {
        "id": "1oKJeUsGsIQQ"
      },
      "outputs": [],
      "source": [
        "l=[]\n",
        "for i in range(X_train.shape[0]):\n",
        "    l.append(np.array(data[i:i+1]).reshape(1,28,28))\n",
        "\n",
        "np.random.seed(7)"
      ]
    },
    {
      "cell_type": "code",
      "execution_count": null,
      "metadata": {
        "id": "K0WbSQZjsaFR"
      },
      "outputs": [],
      "source": [
        "X_train, X_test, y_train, y_test = train_test_split(data,labels)\n",
        "\n",
        "# scale data\n",
        "standard_scaler = MinMaxScaler()\n",
        "standard_scaler.fit(X_train)\n",
        "\n",
        "X_train = standard_scaler.transform(X_train)\n",
        "X_test = standard_scaler.transform(X_test)\n"
      ]
    },
    {
      "cell_type": "code",
      "execution_count": null,
      "metadata": {
        "id": "fdUVX7XGth7n"
      },
      "outputs": [],
      "source": [
        "X_train = X_train.reshape(X_train.shape[0], 28, 28, 1).astype('float32')\n",
        "X_test = X_test.reshape(X_test.shape[0], 28, 28, 1).astype('float32')\n",
        "\n",
        "y_train = np_utils.to_categorical(y_train)\n",
        "y_test = np_utils.to_categorical(y_test)"
      ]
    },
    {
      "cell_type": "code",
      "execution_count": null,
      "metadata": {
        "colab": {
          "base_uri": "https://localhost:8080/"
        },
        "id": "lPjpU8QatHSI",
        "outputId": "4527015c-59c3-4590-9775-7d5d2b1450db"
      },
      "outputs": [
        {
          "output_type": "stream",
          "name": "stdout",
          "text": [
            "Epoch 1/20\n",
            "38/38 - 51s - loss: 1.6990 - accuracy: 0.4663 - val_loss: 0.9013 - val_accuracy: 0.6823 - 51s/epoch - 1s/step\n",
            "Epoch 2/20\n",
            "38/38 - 45s - loss: 0.6781 - accuracy: 0.7639 - val_loss: 0.5666 - val_accuracy: 0.8066 - 45s/epoch - 1s/step\n",
            "Epoch 3/20\n",
            "38/38 - 46s - loss: 0.4469 - accuracy: 0.8357 - val_loss: 0.4435 - val_accuracy: 0.8411 - 46s/epoch - 1s/step\n",
            "Epoch 4/20\n",
            "38/38 - 44s - loss: 0.3227 - accuracy: 0.8746 - val_loss: 0.3862 - val_accuracy: 0.8479 - 44s/epoch - 1s/step\n",
            "Epoch 5/20\n",
            "38/38 - 44s - loss: 0.2681 - accuracy: 0.8957 - val_loss: 0.3486 - val_accuracy: 0.8681 - 44s/epoch - 1s/step\n",
            "Epoch 6/20\n",
            "38/38 - 44s - loss: 0.2444 - accuracy: 0.9008 - val_loss: 0.3484 - val_accuracy: 0.8678 - 44s/epoch - 1s/step\n",
            "Epoch 7/20\n",
            "38/38 - 44s - loss: 0.2222 - accuracy: 0.9105 - val_loss: 0.3235 - val_accuracy: 0.8832 - 44s/epoch - 1s/step\n",
            "Epoch 8/20\n",
            "38/38 - 44s - loss: 0.1957 - accuracy: 0.9188 - val_loss: 0.2948 - val_accuracy: 0.8888 - 44s/epoch - 1s/step\n",
            "Epoch 9/20\n",
            "38/38 - 45s - loss: 0.1864 - accuracy: 0.9223 - val_loss: 0.3256 - val_accuracy: 0.8856 - 45s/epoch - 1s/step\n",
            "Epoch 10/20\n",
            "Epoch 11/20\n",
            "38/38 - 42s - loss: 0.1637 - accuracy: 0.9289 - val_loss: 0.2814 - val_accuracy: 0.8979 - 42s/epoch - 1s/step\n",
            "Epoch 12/20\n",
            "38/38 - 30s - loss: 0.1468 - accuracy: 0.9357 - val_loss: 0.2897 - val_accuracy: 0.9003 - 30s/epoch - 795ms/step\n",
            "Epoch 13/20\n",
            "38/38 - 30s - loss: 0.1447 - accuracy: 0.9395 - val_loss: 0.3062 - val_accuracy: 0.8963 - 30s/epoch - 797ms/step\n",
            "Epoch 14/20\n",
            "38/38 - 30s - loss: 0.1423 - accuracy: 0.9402 - val_loss: 0.3148 - val_accuracy: 0.8904 - 30s/epoch - 796ms/step\n",
            "Epoch 15/20\n",
            "38/38 - 30s - loss: 0.1389 - accuracy: 0.9423 - val_loss: 0.2755 - val_accuracy: 0.9087 - 30s/epoch - 799ms/step\n",
            "Epoch 16/20\n",
            "38/38 - 30s - loss: 0.1332 - accuracy: 0.9439 - val_loss: 0.2884 - val_accuracy: 0.9051 - 30s/epoch - 798ms/step\n",
            "Epoch 17/20\n",
            "38/38 - 30s - loss: 0.1359 - accuracy: 0.9444 - val_loss: 0.3238 - val_accuracy: 0.9043 - 30s/epoch - 798ms/step\n",
            "Epoch 18/20\n",
            "38/38 - 30s - loss: 0.1337 - accuracy: 0.9429 - val_loss: 0.3138 - val_accuracy: 0.8967 - 30s/epoch - 798ms/step\n",
            "Epoch 19/20\n",
            "38/38 - 30s - loss: 0.1233 - accuracy: 0.9478 - val_loss: 0.2980 - val_accuracy: 0.9055 - 30s/epoch - 800ms/step\n",
            "Epoch 20/20\n",
            "38/38 - 30s - loss: 0.1187 - accuracy: 0.9488 - val_loss: 0.3000 - val_accuracy: 0.9102 - 30s/epoch - 797ms/step\n"
          ]
        },
        {
          "output_type": "execute_result",
          "data": {
            "text/plain": [
              "<keras.callbacks.History at 0x7f9165814350>"
            ]
          },
          "metadata": {},
          "execution_count": 10
        }
      ],
      "source": [
        "model = Sequential()\n",
        "\n",
        "## Declare the layers\n",
        "model.add(Conv2D(32, kernel_size=5, activation='relu', input_shape=(28, 28, 1)))\n",
        "model.add(Conv2D(64, kernel_size=5, activation='relu'))\n",
        "model.add(MaxPooling2D(pool_size=(2, 2)))\n",
        "model.add(Dropout(0.3))\n",
        "model.add(Flatten())\n",
        "model.add(Dense(64, activation='relu'))\n",
        "model.add(Dense(128, activation='relu'))\n",
        "model.add(Dense(128, activation='relu'))\n",
        "model.add(Dense(64, activation='relu'))\n",
        "model.add(Dense(19, activation='softmax'))\n",
        "\n",
        "## Add the layers to the model\n",
        "\n",
        "\n",
        "model.compile(optimizer='adam', loss='categorical_crossentropy', metrics=['accuracy'])\n",
        "model.fit(X_train, y_train, validation_data=(X_test, y_test), epochs=20, batch_size=200, verbose=2)"
      ]
    },
    {
      "cell_type": "code",
      "execution_count": null,
      "metadata": {
        "colab": {
          "base_uri": "https://localhost:8080/"
        },
        "id": "FJGpBtbD9FXh",
        "outputId": "f325a844-6567-4839-fe43-8b9d7a7bcc10"
      },
      "outputs": [
        {
          "output_type": "stream",
          "name": "stdout",
          "text": [
            "INFO:tensorflow:Assets written to: ram://e04fc52b-48c5-4e42-8bbb-c672e71aaae6/assets\n"
          ]
        }
      ],
      "source": [
        "from joblib import Parallel, delayed\n",
        "import joblib\n",
        " \n",
        " \n",
        "# Save the model as a pickle in a file\n",
        "joblib.dump(model, 'model2.pkl')\n",
        " \n",
        "# Load the model from the file\n",
        "model = joblib.load('model2.pkl')\n"
      ]
    },
    {
      "cell_type": "code",
      "execution_count": null,
      "metadata": {
        "id": "99jGgXmf9Gd1"
      },
      "outputs": [],
      "source": [
        "from joblib import Parallel, delayed\n",
        "import joblib\n",
        "from sklearn.tree import BaseDecisionTree\n",
        "\n",
        "# Load the model from the file\n",
        "model = joblib.load('model1.pkl')"
      ]
    },
    {
      "cell_type": "code",
      "execution_count": null,
      "metadata": {
        "colab": {
          "base_uri": "https://localhost:8080/",
          "height": 204
        },
        "id": "PpT1ilGMxmok",
        "outputId": "8e335ba9-317f-47b9-fd6c-de5814635380"
      },
      "outputs": [
        {
          "output_type": "execute_result",
          "data": {
            "text/plain": [
              "<matplotlib.image.AxesImage at 0x7f1bab088110>"
            ]
          },
          "metadata": {},
          "execution_count": 4
        },
        {
          "output_type": "display_data",
          "data": {
            "text/plain": [
              "<Figure size 432x288 with 1 Axes>"
            ],
            "image/png": "[encoded data removed]"
          },
          "metadata": {}
        }
      ],
      "source": [
        "img = cv2.imread('/content/Untitled2.png',cv2.IMREAD_GRAYSCALE)\n",
        "plt.imshow(img)"
      ]
    },
    {
      "cell_type": "code",
      "execution_count": null,
      "metadata": {
        "colab": {
          "base_uri": "https://localhost:8080/"
        },
        "id": "ilA5rEMUkff9",
        "outputId": "8fab3552-046b-4a6e-f18d-a5ea8e18aa80"
      },
      "outputs": [
        {
          "output_type": "stream",
          "name": "stdout",
          "text": [
            "10\n",
            "0\n",
            "[[123, 62, 153, 279], [287, 243, 94, 90], [433, 243, 67, 10], [520, 107, 130, 227], [707, 222, 88, 5], [710, 262, 82, 5], [864, 134, 101, 225], [1008, 240, 78, 20], [1152, 147, 22, 198], [1206, 154, 117, 196]]\n"
          ]
        }
      ],
      "source": [
        "if img is not None:\n",
        "    img=~img\n",
        "    _,thresh=cv2.threshold(img,127,255,cv2.THRESH_BINARY)\n",
        "    ctrs,_=cv2.findContours(thresh,cv2.RETR_EXTERNAL,cv2.CHAIN_APPROX_NONE)\n",
        "    cnt=sorted(ctrs, key=lambda ctr: cv2.boundingRect(ctr)[0])\n",
        "    w=int(28)\n",
        "    h=int(28)\n",
        "    train_data=[]\n",
        "    print(len(cnt))\n",
        "    rects=[]\n",
        "    for c in cnt :\n",
        "        x,y,w,h= cv2.boundingRect(c)\n",
        "        rect=[x,y,w,h]\n",
        "        rects.append(rect)\n",
        "    bool_rect=[]\n",
        "    for r in rects:\n",
        "        l=[]\n",
        "        for rec in rects:\n",
        "            flag=0\n",
        "            if rec!=r:\n",
        "                if r[0]<(rec[0]+rec[2]+10) and rec[0]<(r[0]+r[2]+10) and r[1]<(rec[1]+rec[3]+10) and rec[1]<(r[1]+r[3]+10):\n",
        "                    flag=1\n",
        "                l.append(flag)\n",
        "            if rec==r:\n",
        "                l.append(0)\n",
        "        bool_rect.append(l)\n",
        "    dump_rect=[]\n",
        "    for i in range(0,len(cnt)):\n",
        "        for j in range(0,len(cnt)):\n",
        "            if bool_rect[i][j]==1:\n",
        "                area1=rects[i][2]*rects[i][3]\n",
        "                area2=rects[j][2]*rects[j][3]\n",
        "                if(area1==min(area1,area2)):\n",
        "                    dump_rect.append(rects[i])\n",
        "    print(len(dump_rect)) \n",
        "    final_rect=[i for i in rects if i not in dump_rect]\n",
        "    print(final_rect)\n",
        "    for r in final_rect:\n",
        "        x=r[0]\n",
        "        y=r[1]\n",
        "        w=r[2]\n",
        "        h=r[3]\n",
        "        im_crop =thresh[y:y+h+10,x:x+w+10]\n",
        "        im_resize = cv2.resize(im_crop,(28,28))\n",
        "        im_resize=np.reshape(im_resize,(28,28,1))\n",
        "        train_data.append(im_resize)"
      ]
    },
    {
      "cell_type": "code",
      "execution_count": null,
      "metadata": {
        "colab": {
          "base_uri": "https://localhost:8080/",
          "height": 1000
        },
        "id": "hSR50RFbx7hz",
        "outputId": "c34ce2af-5755-4699-c129-686218ca3c93"
      },
      "outputs": [
        {
          "output_type": "display_data",
          "data": {
            "text/plain": [
              "<Figure size 432x288 with 1 Axes>"
            ],
            "image/png": "[encoded data removed]"
          },
          "metadata": {}
        },
        {
          "output_type": "display_data",
          "data": {
            "text/plain": [
              "<Figure size 432x288 with 1 Axes>"
            ],
            "image/png": "[encoded data removed]"
          },
          "metadata": {}
        },
        {
          "output_type": "display_data",
          "data": {
            "text/plain": [
              "<Figure size 432x288 with 1 Axes>"
            ],
            "image/png": "[encoded data removed]"
          },
          "metadata": {}
        },
        {
          "output_type": "display_data",
          "data": {
            "text/plain": [
              "<Figure size 432x288 with 1 Axes>"
            ],
            "image/png": "[encoded data removed]"
          },
          "metadata": {}
        },
        {
          "output_type": "display_data",
          "data": {
            "text/plain": [
              "<Figure size 432x288 with 1 Axes>"
            ],
            "image/png": "[encoded data removed]"
          },
          "metadata": {}
        },
        {
          "output_type": "display_data",
          "data": {
            "text/plain": [
              "<Figure size 432x288 with 1 Axes>"
            ],
            "image/png": "[encoded data removed]"
          },
          "metadata": {}
        },
        {
          "output_type": "display_data",
          "data": {
            "text/plain": [
              "<Figure size 432x288 with 1 Axes>"
            ],
            "image/png": "[encoded data removed]"
          },
          "metadata": {}
        },
        {
          "output_type": "display_data",
          "data": {
            "text/plain": [
              "<Figure size 432x288 with 1 Axes>"
            ],
            "image/png": "[encoded data removed]"
          },
          "metadata": {}
        },
        {
          "output_type": "display_data",
          "data": {
            "text/plain": [
              "<Figure size 432x288 with 1 Axes>"
            ],
            "image/png": "[encoded data removed]"
          },
          "metadata": {}
        },
        {
          "output_type": "display_data",
          "data": {
            "text/plain": [
              "<Figure size 432x288 with 1 Axes>"
            ],
            "image/png": "[encoded data removed]"
          },
          "metadata": {}
        }
      ],
      "source": [
        "for digit in train_data:\n",
        "    prediction = model.predict(digit.reshape(1, 28, 28, 1))  \n",
        "    \n",
        "    #print (\"\\n\\n---------------------------------------\\n\\n\")\n",
        "    #print (\"=========PREDICTION============ \\n\\n\")\n",
        "    plt.imshow(digit.reshape(28, 28), cmap=\"gray\")\n",
        "    plt.show()\n",
        "    #print(\"\\n\\nFinal Output: {}\".format(np.argmax(prediction)))\n",
        "    \n",
        "    #print (\"\\nPrediction (Softmax) from the neural network:\\n\\n {}\".format(prediction))\n",
        "    \n",
        "    hard_maxed_prediction = np.zeros(prediction.shape)\n",
        "    hard_maxed_prediction[0][np.argmax(prediction)] = 1\n",
        "    #print (\"\\n\\nHard-maxed form of the prediction: \\n\\n {}\".format(hard_maxed_prediction))\n",
        "    #print (\"\\n\\n---------------------------------------\\n\\n\")"
      ]
    },
    {
      "cell_type": "code",
      "execution_count": null,
      "metadata": {
        "id": "OS9NvQ7gyBfJ",
        "colab": {
          "base_uri": "https://localhost:8080/"
        },
        "outputId": "ad0d84c2-0194-4e91-dc87-611a518383ea"
      },
      "outputs": [
        {
          "output_type": "stream",
          "name": "stdout",
          "text": [
            "Your Equation : 6x-2=3-10\n"
          ]
        }
      ],
      "source": [
        "equation=''\n",
        "\n",
        "for i in range(len(train_data)):\n",
        "    \n",
        "    train_data[i]=np.array(train_data[i])\n",
        "    train_data[i]=train_data[i].reshape(1,28,28,1)\n",
        "    result=np.argmax(model.predict(train_data[i]), axis=-1)\n",
        "        \n",
        "    for j in range(10) :\n",
        "        if result[0] == j :\n",
        "            equation = equation + str(j)\n",
        "    \n",
        "    if result[0] == 10 :\n",
        "        equation = equation + \"+\"\n",
        "    if result[0] == 11 :\n",
        "        equation = equation + \"-\"\n",
        "    if result[0] == 12 :\n",
        "        equation = equation + \"*\"\n",
        "    if result[0] == 13 :\n",
        "        equation = equation + \"/\"\n",
        "    if result[0] == 14 :\n",
        "        equation = equation + \"=\"\n",
        "    if result[0] == 15 :\n",
        "        equation = equation + \".\"\n",
        "    if result[0] == 16 :\n",
        "        equation = equation + \"x\"\n",
        "    if result[0] == 17 :\n",
        "        equation = equation + \"y\"      \n",
        "    if result[0] == 18 :\n",
        "        equation = equation + \"z\"\n",
        "\n",
        "    s=equation\n",
        "t=\"\"\n",
        "i=0\n",
        "while i<len(s):\n",
        "    if s[i]==\"-\" and s[i+1]==\"-\":\n",
        "        t=t+\"=\"\n",
        "        i=i+2\n",
        "    else: \n",
        "        t=t+s[i]\n",
        "        i=i+1\n",
        "\n",
        "equation=t\n",
        "    \n",
        "print(\"Your Equation :\", equation)"
      ]
    },
    {
      "cell_type": "code",
      "execution_count": null,
      "metadata": {
        "id": "n4ZUby9y7eTg"
      },
      "outputs": [],
      "source": [
        "s=equation\n",
        "t=\"\"\n",
        "i=0\n",
        "while i<len(s):\n",
        "    if (s[i]==\"1\" or s[i]==\"2\" or s[i]==\"3\" or s[i]==\"4\" or s[i]==\"5\" or s[i]==\"6\" or s[i]==\"7\" or s[i]==\"8\" or s[i]==\"9\") and (s[i+1]==\"x\" or s[i+1]==\"y\" or s[i+1]==\"z\"):\n",
        "        t=t+s[i]+\"*\"+s[i+1]\n",
        "        i=i+2\n",
        "    else: \n",
        "        t=t+s[i]\n",
        "        i=i+1\n",
        "\n",
        "equation=t\n",
        "\n",
        "s=equation\n",
        "t=\"\"\n",
        "i=0\n",
        "while i<len(s):\n",
        "    if s[i]=='=':\n",
        "        t=t+'-('\n",
        "    else: \n",
        "        t=t+s[i]\n",
        "    i=i+1\n",
        "  \n",
        "t=t+')'\n",
        "\n",
        "equation=t\n",
        "#print(equation)"
      ]
    },
    {
      "cell_type": "code",
      "execution_count": null,
      "metadata": {
        "id": "TkcTUp1m-Hu3"
      },
      "outputs": [],
      "source": [
        "import sympy as sp\n",
        "def lsttostr(lst):\n",
        "    str = \"\"\n",
        "    for i in lst:\n",
        "        str += i\n",
        "    return str"
      ]
    },
    {
      "cell_type": "code",
      "execution_count": null,
      "metadata": {
        "id": "eIUAcUrW-htr"
      },
      "outputs": [],
      "source": [
        "alpha = 'abcdefghijklmnopqrstuvwxyz'\n",
        "equation = list(equation)\n",
        "for i in equation:\n",
        "    #print(i)\n",
        "    if i in alpha:\n",
        "        var = i\n",
        "        #print(i)\n",
        "        equation[equation.index(i)] = 'a'\n",
        "        continue\n",
        "equation = lsttostr(equation)\n",
        "#print(equation)"
      ]
    },
    {
      "cell_type": "code",
      "execution_count": null,
      "metadata": {
        "colab": {
          "base_uri": "https://localhost:8080/"
        },
        "id": "sNwMXhPW-rA6",
        "outputId": "c0521732-5427-4c90-f417-474ec354a197"
      },
      "outputs": [
        {
          "output_type": "stream",
          "name": "stdout",
          "text": [
            "[-5/6]\n"
          ]
        }
      ],
      "source": [
        "a = sp.symbols('a')\n",
        "eq_raw = eval(equation)\n",
        "eq = sp.Eq(eq_raw, 0)\n",
        "print(sp.solve(eq, a))\n",
        "#print(eq_raw)"
      ]
    }
  ],
  "metadata": {
    "colab": {
      "name": "Math Equation Solver2.ipynb",
      "provenance": [],
      "collapsed_sections": [],
      "authorship_tag": "ABX9TyPws7eXOnz15AHHRhSMRjkJ",
      "include_colab_link": true
    },
    "kernelspec": {
      "display_name": "Python 3",
      "name": "python3"
    },
    "language_info": {
      "name": "python"
    },
    "gpuClass": "standard"
  },
  "nbformat": 4,
  "nbformat_minor": 0
}