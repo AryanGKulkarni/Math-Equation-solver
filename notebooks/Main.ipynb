{
  "nbformat": 4,
  "nbformat_minor": 0,
  "metadata": {
    "colab": {
      "name": "Main.ipynb",
      "provenance": [],
      "authorship_tag": "ABX9TyPQKxbDKkB3HBxuuMvftxu/",
      "include_colab_link": true
    },
    "kernelspec": {
      "name": "python3",
      "display_name": "Python 3"
    },
    "language_info": {
      "name": "python"
    }
  },
  "cells": [
    {
      "cell_type": "markdown",
      "metadata": {
        "id": "view-in-github",
        "colab_type": "text"
      },
      "source": [
        "<a href=\"https://colab.research.google.com/github/AryanGKulkarni/Math-Equation-solver/blob/main/Main.ipynb\" target=\"_parent\"><img src=\"https://colab.research.google.com/assets/colab-badge.svg\" alt=\"Open In Colab\"/></a>"
      ]
    },
    {
      "cell_type": "code",
      "execution_count": 211,
      "metadata": {
        "colab": {
          "base_uri": "https://localhost:8080/"
        },
        "id": "B8xtbWb-p9rh",
        "outputId": "5fd18f30-1cf8-405d-b774-c5f535b30f54"
      },
      "outputs": [
        {
          "output_type": "stream",
          "name": "stdout",
          "text": [
            "Loading...\n",
            "Done\n"
          ]
        }
      ],
      "source": [
        "print(\"Loading...\")\n",
        "\n",
        "# common libraries\n",
        "import numpy as np\n",
        "import pandas as pd\n",
        "from matplotlib import pyplot as plt\n",
        "import matplotlib.image as mpimg\n",
        "%matplotlib inline\n",
        "import os\n",
        "from os import listdir\n",
        "from os.path import isfile, join\n",
        "\n",
        "# CV and Image\n",
        "import cv2\n",
        "from PIL import Image\n",
        "\n",
        "# pickle\n",
        "import pickle\n",
        "\n",
        "# keras\n",
        "import keras\n",
        "from keras import optimizers\n",
        "from keras import backend as K\n",
        "from keras.models import Model, Sequential, load_model\n",
        "from keras.layers import *\n",
        "from keras.layers import Input, Dense, Dropout, Flatten\n",
        "from keras.utils import np_utils\n",
        "from keras.layers.convolutional import Conv2D, MaxPooling2D\n",
        "from keras.utils.np_utils import to_categorical\n",
        "from keras.utils.vis_utils import plot_model\n",
        "from tensorflow.keras.callbacks import ModelCheckpoint\n",
        "from tensorflow.keras.optimizers import Adam\n",
        "K.image_data_format()\n",
        "\n",
        "print(\"Done\")"
      ]
    },
    {
      "cell_type": "code",
      "execution_count": 212,
      "metadata": {
        "id": "EqLAM-HBslvG"
      },
      "outputs": [],
      "source": [
        "import numpy as np \n",
        "import pandas as pd \n",
        "import matplotlib.pyplot as plt\n",
        "import seaborn as sns\n",
        "import os\n",
        "import cv2\n",
        "from google.colab.patches import cv2_imshow\n",
        "from sklearn.preprocessing import MinMaxScaler\n",
        "import tensorflow as tf\n",
        "from keras.models import Sequential\n",
        "from keras.layers import Dense\n",
        "from keras.layers import Dropout\n",
        "from keras.layers import Flatten\n",
        "from keras.layers.convolutional import Conv2D\n",
        "from keras.layers.convolutional import MaxPooling2D\n",
        "from keras import backend as K\n",
        "from keras.utils import np_utils\n",
        "from sklearn.model_selection import train_test_split\n",
        "from sklearn.metrics import confusion_matrix\n",
        "\n",
        "#ignore warning messages \n",
        "import warnings\n",
        "warnings.filterwarnings('ignore') \n",
        "\n",
        "sns.set()"
      ]
    },
    {
      "cell_type": "code",
      "execution_count": 213,
      "metadata": {
        "id": "99jGgXmf9Gd1"
      },
      "outputs": [],
      "source": [
        "from joblib import Parallel, delayed\n",
        "import joblib\n",
        "from sklearn.tree import BaseDecisionTree\n",
        "\n",
        "# Load the model from the file\n",
        "model = joblib.load('model1.pkl')"
      ]
    },
    {
      "cell_type": "code",
      "execution_count": 214,
      "metadata": {
        "colab": {
          "base_uri": "https://localhost:8080/",
          "height": 204
        },
        "id": "PpT1ilGMxmok",
        "outputId": "ca7410d4-62de-4f9b-d6b5-5e7196845f7f"
      },
      "outputs": [
        {
          "output_type": "execute_result",
          "data": {
            "text/plain": [
              "<matplotlib.image.AxesImage at 0x7f304d301a50>"
            ]
          },
          "metadata": {},
          "execution_count": 214
        },
        {
          "output_type": "display_data",
          "data": {
            "text/plain": [
              "<Figure size 432x288 with 1 Axes>"
            ],
            "image/png": "[encoded data removed]"
          },
          "metadata": {}
        }
      ],
      "source": [
        "img = cv2.imread('/content/image2.png',cv2.IMREAD_GRAYSCALE)     #image path goes here\n",
        "plt.imshow(img)"
      ]
    },
    {
      "cell_type": "code",
      "execution_count": 215,
      "metadata": {
        "id": "ilA5rEMUkff9"
      },
      "outputs": [],
      "source": [
        "if img is not None:\n",
        "    img=~img\n",
        "    _,thresh=cv2.threshold(img,127,255,cv2.THRESH_BINARY)\n",
        "    ctrs,_=cv2.findContours(thresh,cv2.RETR_EXTERNAL,cv2.CHAIN_APPROX_NONE)\n",
        "    cnt=sorted(ctrs, key=lambda ctr: cv2.boundingRect(ctr)[0])\n",
        "    w=int(28)\n",
        "    h=int(28)\n",
        "    train_data=[]\n",
        "    #print(len(cnt))\n",
        "    rects=[]\n",
        "    for c in cnt :\n",
        "        x,y,w,h= cv2.boundingRect(c)\n",
        "        rect=[x,y,w,h]\n",
        "        rects.append(rect)\n",
        "    bool_rect=[]\n",
        "    for r in rects:\n",
        "        l=[]\n",
        "        for rec in rects:\n",
        "            flag=0\n",
        "            if rec!=r:\n",
        "                if r[0]<(rec[0]+rec[2]+10) and rec[0]<(r[0]+r[2]+10) and r[1]<(rec[1]+rec[3]+10) and rec[1]<(r[1]+r[3]+10):\n",
        "                    flag=1\n",
        "                l.append(flag)\n",
        "            if rec==r:\n",
        "                l.append(0)\n",
        "        bool_rect.append(l)\n",
        "    dump_rect=[]\n",
        "    for i in range(0,len(cnt)):\n",
        "        for j in range(0,len(cnt)):\n",
        "            if bool_rect[i][j]==1:\n",
        "                area1=rects[i][2]*rects[i][3]\n",
        "                area2=rects[j][2]*rects[j][3]\n",
        "                if(area1==min(area1,area2)):\n",
        "                    dump_rect.append(rects[i])\n",
        "    #print(len(dump_rect)) \n",
        "    final_rect=[i for i in rects if i not in dump_rect]\n",
        "    #print(final_rect)\n",
        "    for r in final_rect:\n",
        "        x=r[0]\n",
        "        y=r[1]\n",
        "        w=r[2]\n",
        "        h=r[3]\n",
        "        im_crop =thresh[y:y+h+10,x:x+w+10]\n",
        "        im_resize = cv2.resize(im_crop,(28,28))\n",
        "        im_resize=np.reshape(im_resize,(28,28,1))\n",
        "        train_data.append(im_resize)"
      ]
    },
    {
      "cell_type": "code",
      "execution_count": 216,
      "metadata": {
        "id": "hSR50RFbx7hz"
      },
      "outputs": [],
      "source": [
        "for digit in train_data:\n",
        "    prediction = model.predict(digit.reshape(1, 28, 28, 1))  \n",
        "    \n",
        "    #print (\"\\n\\n---------------------------------------\\n\\n\")\n",
        "    #print (\"=========PREDICTION============ \\n\\n\")\n",
        "    #plt.imshow(digit.reshape(28, 28), cmap=\"gray\")\n",
        "    #plt.show()\n",
        "    #print(\"\\n\\nFinal Output: {}\".format(np.argmax(prediction)))\n",
        "    \n",
        "    #print (\"\\nPrediction (Softmax) from the neural network:\\n\\n {}\".format(prediction))\n",
        "    \n",
        "    hard_maxed_prediction = np.zeros(prediction.shape)\n",
        "    hard_maxed_prediction[0][np.argmax(prediction)] = 1\n",
        "    #print (\"\\n\\nHard-maxed form of the prediction: \\n\\n {}\".format(hard_maxed_prediction))\n",
        "    #print (\"\\n\\n---------------------------------------\\n\\n\")"
      ]
    },
    {
      "cell_type": "code",
      "execution_count": 217,
      "metadata": {
        "id": "OS9NvQ7gyBfJ"
      },
      "outputs": [],
      "source": [
        "equation=''\n",
        "\n",
        "for i in range(len(train_data)):\n",
        "    \n",
        "    train_data[i]=np.array(train_data[i])\n",
        "    train_data[i]=train_data[i].reshape(1,28,28,1)\n",
        "    result=np.argmax(model.predict(train_data[i]), axis=-1)\n",
        "        \n",
        "    for j in range(10) :\n",
        "        if result[0] == j :\n",
        "            equation = equation + str(j)\n",
        "    \n",
        "    if result[0] == 10 :\n",
        "        equation = equation + \"+\"\n",
        "    if result[0] == 11 :\n",
        "        equation = equation + \"-\"\n",
        "    if result[0] == 12 :\n",
        "        equation = equation + \"*\"\n",
        "    if result[0] == 13 :\n",
        "        equation = equation + \"/\"\n",
        "    if result[0] == 14 :\n",
        "        equation = equation + \"=\"\n",
        "    if result[0] == 15 :\n",
        "        equation = equation + \".\"\n",
        "    if result[0] == 16 :\n",
        "        equation = equation + \"x\"\n",
        "    if result[0] == 17 :\n",
        "        equation = equation + \"y\"      \n",
        "    if result[0] == 18 :\n",
        "        equation = equation + \"z\"\n",
        "\n",
        "    s=equation\n",
        "t=\"\"\n",
        "i=0\n",
        "while i<len(s):\n",
        "    if s[i]==\"-\" and s[i+1]==\"-\":\n",
        "        t=t+\"=\"\n",
        "        i=i+2\n",
        "    else: \n",
        "        t=t+s[i]\n",
        "        i=i+1\n",
        "\n",
        "equation=t\n",
        "    \n",
        "#print(\"Your Equation :\", equation)"
      ]
    },
    {
      "cell_type": "code",
      "execution_count": 218,
      "metadata": {
        "id": "TkcTUp1m-Hu3"
      },
      "outputs": [],
      "source": [
        "import sympy as sp\n",
        "def lsttostr(lst):\n",
        "    str = \"\"\n",
        "    for i in lst:\n",
        "        str += i\n",
        "    return str"
      ]
    },
    {
      "cell_type": "code",
      "execution_count": 219,
      "metadata": {
        "id": "n4ZUby9y7eTg"
      },
      "outputs": [],
      "source": [
        "equation = list(equation)\n",
        "temp2 = 0\n",
        "for i in equation:\n",
        "    if i == '=':\n",
        "        equation[temp2] = '-('\n",
        "        equation += ')'\n",
        "    temp2 += 1\n",
        "equation = lsttostr(equation)\n",
        "#print(equation)"
      ]
    },
    {
      "cell_type": "code",
      "source": [
        "alpha = 'abcdefghijklmnopqrstuvwxyz'\n",
        "#equation = list(equation)\n",
        "\n",
        "temp = 0\n",
        "\n",
        "for i in equation:\n",
        "    if i in alpha:\n",
        "        var = i\n",
        "        #equation[equation.index(i)] = 'a'\n",
        "        temp = 1\n",
        "#equation = lsttostr(equation)\n",
        "#print(equation)"
      ],
      "metadata": {
        "id": "aMNbFx8O7b_v"
      },
      "execution_count": 220,
      "outputs": []
    },
    {
      "cell_type": "code",
      "source": [
        "x = sp.symbols(var)\n",
        "#eq_raw = eval(equation)\n",
        "#print(eq_raw)\n",
        "print(\"Your Equation:\")      \n",
        "\n",
        "if temp != 0:\n",
        "    s=equation\n",
        "    t=\"\"\n",
        "    i=0\n",
        "    while i<len(s):\n",
        "        if (s[i] in '123456789') and (s[i+1]==var):\n",
        "            t=t+s[i]+\"*\"+s[i+1]\n",
        "            i=i+2        \n",
        "        else: \n",
        "            t=t+s[i]\n",
        "            i=i+1\n",
        "    \n",
        "    s=equation\n",
        "    t=\"\"\n",
        "    i=0\n",
        "    while i<len(s):       \n",
        "        if (s[i]==var) and (s[i+1] in '123456789'):\n",
        "            t=t+s[i]+\"**\"+s[i+1]\n",
        "            i=i+2\n",
        "        else: \n",
        "            t=t+s[i]\n",
        "            i=i+1       \n",
        "\n",
        "    equation=t    \n",
        "    eq_raw = eval(equation)    \n",
        "    display(sp.Eq(eq_raw,0))\n",
        "    eq = sp.Eq(eq_raw, 0)\n",
        "    print(\"Solution:\", sp.solve(eq_raw, x))\n",
        "    #display(sp.solve(eq_raw, x))\n",
        "else:    \n",
        "    eq_raw = eval(equation)\n",
        "    display(equation)\n",
        "    print(\"Solution:\", eq_raw)"
      ],
      "metadata": {
        "colab": {
          "base_uri": "https://localhost:8080/",
          "height": 74
        },
        "id": "S2vpYo_xb_td",
        "outputId": "3792e3dd-daed-47d3-b0af-f307fd634f13"
      },
      "execution_count": 221,
      "outputs": [
        {
          "output_type": "stream",
          "name": "stdout",
          "text": [
            "Your Equation:\n"
          ]
        },
        {
          "output_type": "display_data",
          "data": {
            "text/plain": [
              "Eq(x**4 - 1, 0)"
            ],
            "text/latex": "$\\displaystyle x^{4} - 1 = 0$"
          },
          "metadata": {}
        },
        {
          "output_type": "stream",
          "name": "stdout",
          "text": [
            "Solution: [-1, 1, -I, I]\n"
          ]
        }
      ]
    }
  ]
}