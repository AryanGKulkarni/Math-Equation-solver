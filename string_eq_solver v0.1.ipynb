{
 "cells": [
  {
   "cell_type": "code",
   "execution_count": 2,
   "id": "e075c12c",
   "metadata": {},
   "outputs": [],
   "source": [
    "import sympy as sp"
   ]
  },
  {
   "cell_type": "code",
   "execution_count": 3,
   "id": "0afa76c2",
   "metadata": {},
   "outputs": [],
   "source": [
    "def lsttostr(lst):\n",
    "    str = \"\"\n",
    "    for i in lst:\n",
    "        str += i\n",
    "    return str"
   ]
  },
  {
   "cell_type": "code",
   "execution_count": 13,
   "id": "bf8f763b",
   "metadata": {},
   "outputs": [],
   "source": [
    "#st1, st2 = None, None\n",
    "st1 = '4'+'*'+'x'+'**'+'2'+'+'+'4'+'*'+'x'+'+'+'1'\n",
    "alpha = 'abcdefghijklmnopqrstuvwxyz'\n",
    "st1 = list(st1)\n",
    "\n",
    "temp = 0\n",
    "\n",
    "for i in st1:\n",
    "    if i in alpha:\n",
    "        var = i\n",
    "        st1[st1.index(i)] = 'a'\n",
    "        temp += 1\n",
    "st1 = lsttostr(st1)\n",
    "#print(st1)"
   ]
  },
  {
   "cell_type": "code",
   "execution_count": 14,
   "id": "acc09c0d",
   "metadata": {},
   "outputs": [
    {
     "name": "stdout",
     "output_type": "stream",
     "text": [
      "[-1/2]\n"
     ]
    }
   ],
   "source": [
    "a = sp.symbols('a')\n",
    "eq_raw = eval(st1)\n",
    "        \n",
    "\n",
    "if temp != 0:\n",
    "    eq = sp.Eq(eq_raw, 0)\n",
    "    print(sp.solve(eq, a))\n",
    "else:\n",
    "    print(eq_raw)"
   ]
  },
  {
   "cell_type": "code",
   "execution_count": null,
   "id": "cbed3b7e",
   "metadata": {},
   "outputs": [],
   "source": []
  }
 ],
 "metadata": {
  "kernelspec": {
   "display_name": "Python 3 (ipykernel)",
   "language": "python",
   "name": "python3"
  },
  "language_info": {
   "codemirror_mode": {
    "name": "ipython",
    "version": 3
   },
   "file_extension": ".py",
   "mimetype": "text/x-python",
   "name": "python",
   "nbconvert_exporter": "python",
   "pygments_lexer": "ipython3",
   "version": "3.9.12"
  }
 },
 "nbformat": 4,
 "nbformat_minor": 5
}
