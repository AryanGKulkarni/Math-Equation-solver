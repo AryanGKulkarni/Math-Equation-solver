{
 "cells": [
  {
   "cell_type": "code",
   "execution_count": 1,
   "id": "e075c12c",
   "metadata": {},
   "outputs": [],
   "source": [
    "import sympy as sp"
   ]
  },
  {
   "cell_type": "code",
   "execution_count": 86,
   "id": "628dfb01",
   "metadata": {},
   "outputs": [
    {
     "data": {
      "text/plain": [
       "'he'"
      ]
     },
     "execution_count": 86,
     "metadata": {},
     "output_type": "execute_result"
    }
   ],
   "source": [
    "def lsttostr(lst):\n",
    "    str = \"\"\n",
    "    for i in lst:\n",
    "        str += i\n",
    "    return str"
   ]
  },
  {
   "cell_type": "code",
   "execution_count": 106,
   "id": "bf8f763b",
   "metadata": {},
   "outputs": [
    {
     "name": "stdout",
     "output_type": "stream",
     "text": [
      "[-3/4 - sqrt(5)/4, -3/4 + sqrt(5)/4]\n"
     ]
    }
   ],
   "source": [
    "#st1, st2 = None, None\n",
    "st1 = '4'+'*'+'d'+'**'+'2'+'+'+'6'+'*'+'d'+'+'+'1'\n",
    "alpha = 'abcdefghijklmnopqrstuvwxyz'\n",
    "st1 = list(st1)\n",
    "for i in st1:\n",
    "    if i in alpha:\n",
    "        var = i\n",
    "        st1[st1.index(i)] = 'a'\n",
    "        continue\n",
    "st1 = lsttostr(st1)\n",
    "#print(st1)"
   ]
  },
  {
   "cell_type": "code",
   "execution_count": 107,
   "id": "0cc344d8",
   "metadata": {},
   "outputs": [
    {
     "name": "stdout",
     "output_type": "stream",
     "text": [
      "[-3/4 - sqrt(5)/4, -3/4 + sqrt(5)/4]\n"
     ]
    }
   ],
   "source": [
    "a = sp.symbols('a')\n",
    "eq_raw = eval(st1)\n",
    "eq = sp.Eq(eq_raw, 0)\n",
    "print(sp.solve(eq, a))"
   ]
  }
 ],
 "metadata": {
  "kernelspec": {
   "display_name": "Python 3 (ipykernel)",
   "language": "python",
   "name": "python3"
  },
  "language_info": {
   "codemirror_mode": {
    "name": "ipython",
    "version": 3
   },
   "file_extension": ".py",
   "mimetype": "text/x-python",
   "name": "python",
   "nbconvert_exporter": "python",
   "pygments_lexer": "ipython3",
   "version": "3.9.12"
  }
 },
 "nbformat": 4,
 "nbformat_minor": 5
}
